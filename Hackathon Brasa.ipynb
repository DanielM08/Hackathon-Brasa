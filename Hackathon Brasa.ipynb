{
 "cells": [
  {
   "cell_type": "markdown",
   "metadata": {},
   "source": [
    "# Hackathon BRASA\n",
    "\n",
    "### Sugestões de trabalhos futuros"
   ]
  },
  {
   "cell_type": "markdown",
   "metadata": {},
   "source": [
    "De acordo com pesquisas recentes do 'Serviço de Proteção ao Crédito'(SPF), o brasileiro em geral enfrenta sérios problemas quando se trata de questões de finanças pessoais e bom gerenciamento do seu próprio dinheiro. Segundo o órgão, ao menos 62 milhões de brasileiros estão endividados¹ e pelo menos 76% da população vive no limite do orçamento². Dados como esses são fortes indicativos de péssimos hábitos financeiros em toda a população do país, que além de ser majoritariamente pobre, terá ainda menor possibilidade de mobilidade social por não não ter um efetivo controle de suas finanças. <br>\n",
    "\n",
    "Não bastasse a falta de controle em suas finanças, o brasileiro ainda sofre com a ma fé de boa parte das grandes corporações financeiras do país que, amparadas por um sistema altamente burocrático, tiram proveito da população (diga-se, seus próprios clientes) com tarifas não informadas, juros abusivos e uma infinidade de barreiras que mais atrapalham do que ajudam. \n",
    "\n",
    "Diante desse cenário, as pessoas que desenvolvem este trabalho, acreditam que o pivô para o empoderamento financeiro da população brasileira é a informação.\n",
    "\n",
    "¹https://veja.abril.com.br/economia/62-milhoes-de-brasileiros-estao-inadimplentes-diz-spc/ <br>\n",
    "²https://www.contabilidadenatv.com.br/2018/12/cai-para-76-o-percentual-de-brasileiros-que-vivem-no-limite-do-orcamento-revela-indicador-cndlspc-brasil/"
   ]
  },
  {
   "cell_type": "markdown",
   "metadata": {},
   "source": [
    "A informação, em um cenário como este, deve ser alguma que com clareza e transparência possa ser facilmente \n",
    "compreendida pelos usuários e, de modo a respeitar a indepedência que têm (e devem continuar possuindo!), apenas servisse de guia para tomarem suas próprias decisões a respeito do próprio dinheiro, nada que pareça 'abusivo'. <br>\n",
    "\n",
    "Quando se trata de engajar pessoas para que comecem a economizar e se organizar melhor financeiramente, uma das principais barreiras que se tem é a de que pessoas tomam muito das suas decisões baseadas em viéses cognitivos, que nada mais são do que tendências a realizarem ou perceberem um determinado tipo de coisa ou situação. Na psicologia econômica, que estuda como as pessoas se comportam em relação a recursos finitos, um viés muito descrito é o **viés  presente**, que indica a prédisposição humana para valorizar a gratificação imediata e que está muito ligado ao **desconto hiperbólico**, que é a tendência das pessoas de incrementalmente escolher uma 'recompensa' menor e mais cedo (ex: gastar muito com compras no shopping) do que uma grande 'recompensa' em um período de tempo maior (ex: poupar para comprar um carro a vista). Simplesmente pelas pessoas estarem naturalmente enviesadas a esses comportamentos, guiá-las por um caminho de emponderamento financeiro torna-se uma tarefa ainda mais desafiadora. <br>\n",
    "\n",
    "Dito isso, idealmente, soluções tecnológicas que abordem o problema, têm que considerar o 'caráter pscicológico' da tomada de decisões das pessoas para que possam auxiliá-las de uma forma mais eficiente, e já que esse caráter é muito particular de cada pessoa, essas soluções devem ser baseadas em dados. <br>\n",
    "\n",
    "Assim, sem mais delongas, apresentaremos agora as ideias pensadas para ajudar a resolver aumentar o emponderamento financeiro das pessoas e a serem mais conscientes nas suas tomadas de decisões. Para nos auxiliar e explicar melhor o que vinhemos pensando, usaremos uma base de dados pública de transações financeiras de contas da república Tcheca datadas do período de 1993 a 1998. <br>"
   ]
  },
  {
   "cell_type": "markdown",
   "metadata": {},
   "source": [
    "**Sugestão** - Apresentar ao cliente a previsão de gastos e ganhos ou algum 'cenário de risco' no mês ou semanas seguintes. <br>\n",
    "\n",
    "A ideia por trás disso vem do artigo \"NUDGING FOR IMPROVED PROJECTIONS OF FUTURE EXPENSES AND SAVINGS\", cujo autores fizeram uma pesquisa com 28 pessoas para saber como as pessoas fariam suas previsões de gasto caso soubessem de alguma **notícia de cenário de risco nos próximos meses**, **notícia de redução de entradas** e **notícia de aumento dos próprios gastos**. Resumidamente, as pessoas pessoas fizeram previsões antes de saberem dessas notícias e depois de recebê-las, no geral, a preocupação por conta das notícias foi suficiente para se tornarem mais cautelosas com a prospecção de gastos que fariam. <br>\n",
    "\n",
    "Foram levantadas as seguinte hipóteses:\n",
    "\n",
    "<ul>\n",
    "    <li> H1: As previsões de economia serão ajustadas 'para baixo' para os indivíduos que recebem o cenário inesperado de perda de renda.\n",
    "    <li> H2: As previsões de despesas serão ajustadas 'para cima' para indivíduos que recebem o cenário de despesas inesperado\n",
    "    <li> H3: Indivíduos que recebem cenários de alto risco farão ajustes de previsão maiores do que aqueles que recebem cenários de baixo risco\n",
    "    <li> H4: Indivíduos que recebem cenários de baixo risco farão ajustes de previsão maiores do que aqueles que recebem cenários sem risco\n",
    "    <li> H5: A proporção de indivíduos nas condições sem risco que não ajustam seus as previsões serão mais altas do que aquelas nas condições de baixo risco e alto risco    \n",
    "</ul>\n",
    "\n",
    "Os testes estátisticos realizados (o ANOVA e Turkey's B como pos-hoc) com os resultados da pesquisa deram suporte às hipóteses 2, 3 e 5, ou seja, a apresentação de cenários de risco de fato influenciaram as pessoas a repensarem suas previsões de gasto. <br>\n",
    "\n",
    "A ideia de apresentar essas previsões seria então a de <u> diminuir o efeito do desconto hiperbólico e trazer mais pra perto das pessoas a possibilidade de cenários futuros ruins </u>, para que que já considerem isso em suas decisões presentes. <br>\n",
    "\n",
    "Fizemos um breve estudo sobre como seriam essas previsões nos dados de transações da República Tcheca, a imagem a seguir apresenta um exemplo de como nosso modelo preditor apontou como seria o <u>balanço da conta 3050 para o mês de novembro e dezembro de 1998 </u>. Vale salientar que como trata-se de uma demonstração, não foi levado em consideração a qualidade do modelo, visto que os dados que dispomos são muito limitados e sequer são os dados reais em que os modelos preditores seriam aplicados. <br>\n",
    "\n",
    "Já a ideia de apresentar <u>'cenários de risco' seria a partir da análise de grupos de usuário </u>, a notificação seria personalisada para cada grupo, ao invés de cada usuário. Uma forma 'segura' de fazer isso, ou seja, menos complexa e que deixasse claro ao usuário qual o tipo de grupo em que ele está inserido, seria com base, por exemplo, na localização dos clientes, lembrando-os, por exemplo, da proximidade de festas da cidade em que moram e que nessa época há uma tendência das pessoas gastarem mais, por exemplo.   \n",
    "\n",
    "Uma outra oportunidade seriam os avisos de 'cenários de risco' com base em datas comemorativas, como Natal, páscoa e Ano-Novo, alertando às pessoas que no período que se aproxíma, talvez gastem mais e por isso fiquem atentos às finanças pessoais.\n",
    "\n",
    "<br>\n",
    "¹https://eprints.ncl.ac.uk/file_store/production/263418/1EC3DDEC-DDF2-4C52-B0F8-95BC5363D1D9.pdf"
   ]
  },
  {
   "cell_type": "code",
   "execution_count": 263,
   "metadata": {
    "scrolled": true
   },
   "outputs": [
    {
     "data": {
      "image/png": "[encoded data removed]",
      "text/plain": [
       "<Figure size 432x288 with 1 Axes>"
      ]
     },
     "metadata": {},
     "output_type": "display_data"
    }
   ],
   "source": [
    "#Previsão de balanço mensal para os meses de NOVEMBRO e DEZEMBRO, \n",
    "#todos os demais meses são os gastos reais da conta\n",
    "plot_preds(3050, data, predictions)"
   ]
  },
  {
   "cell_type": "code",
   "execution_count": 164,
   "metadata": {},
   "outputs": [
    {
     "name": "stdout",
     "output_type": "stream",
     "text": [
      "Collecting pip\n",
      "\u001b[?25l  Downloading https://files.pythonhosted.org/packages/54/0c/d01aa759fdc501a58f431eb594a17495f15b88da142ce14b5845662c13f3/pip-20.0.2-py2.py3-none-any.whl (1.4MB)\n",
      "\u001b[K     |████████████████████████████████| 1.4MB 355kB/s eta 0:00:01\n",
      "\u001b[?25hInstalling collected packages: pip\n",
      "  Found existing installation: pip 19.2.2\n",
      "    Uninstalling pip-19.2.2:\n",
      "      Successfully uninstalled pip-19.2.2\n",
      "Successfully installed pip-20.0.2\n"
     ]
    }
   ],
   "source": [
    "!pip install --upgrade pip"
   ]
  },
  {
   "cell_type": "code",
   "execution_count": 165,
   "metadata": {},
   "outputs": [
    {
     "name": "stdout",
     "output_type": "stream",
     "text": [
      "Requirement already satisfied: tqdm in /home/danielmarx/anaconda3/lib/python3.6/site-packages (4.31.1)\r\n"
     ]
    }
   ],
   "source": [
    "!pip install tqdm"
   ]
  },
  {
   "cell_type": "code",
   "execution_count": 223,
   "metadata": {},
   "outputs": [
    {
     "name": "stdout",
     "output_type": "stream",
     "text": [
      "Collecting xgboost\n",
      "  Downloading xgboost-1.0.2-py3-none-manylinux1_x86_64.whl (109.7 MB)\n",
      "\u001b[K     |████████████████████████████████| 109.7 MB 4.1 kB/s eta 0:00:01   |▏                               | 450 kB 418 kB/s eta 0:04:21\n",
      "\u001b[?25hRequirement already satisfied: scipy in /home/danielmarx/anaconda3/lib/python3.6/site-packages (from xgboost) (1.1.0)\n",
      "Requirement already satisfied: numpy in /home/danielmarx/.local/lib/python3.6/site-packages (from xgboost) (1.14.5)\n",
      "Installing collected packages: xgboost\n",
      "Successfully installed xgboost-1.0.2\n"
     ]
    }
   ],
   "source": [
    "!pip install xgboost"
   ]
  },
  {
   "cell_type": "markdown",
   "metadata": {},
   "source": [
    "# Sobre o DataSet\n",
    "\n",
    "Os dados utilizados são apresentados em detalhes em: \n",
    "\n",
    "https://web.archive.org/web/20161019192412/http://lisp.vse.cz/pkdd99/berka.htm\n",
    "\n",
    "e em:\n",
    "\n",
    "https://data.world/lpetrocelli/czech-financial-dataset-real-anonymized-transactions/workspace/data-dictionary\n",
    "\n",
    "\n",
    "Desse DataSet, foram utilizados os dados de 'account.csv', que apresenta todas as contas disponíveis nas transações, a data em que foram criadas, a cidade ao qual pertencem e se o cliente dessa conta faz o balanço orçamentário mensalmente, a cada semana ou a cada compra <br>\n",
    "\n",
    "Também foi utilizado os dados de transação ('trans.csv'), que indica entre outras coisas a data da transação, a conta que a realizou, a quantidade de dinheiro envolvido, o balanço após a transação e o tipo dela (de recebimento ou retirada). "
   ]
  },
  {
   "cell_type": "code",
   "execution_count": null,
   "metadata": {},
   "outputs": [],
   "source": []
  },
  {
   "cell_type": "code",
   "execution_count": 68,
   "metadata": {},
   "outputs": [],
   "source": [
    "import pandas as pd\n",
    "import numpy as np\n",
    "from itertools import product\n",
    "\n",
    "import matplotlib.pyplot as plt\n",
    "\n",
    "from tqdm import tqdm\n",
    "\n",
    "from xgboost import XGBRegressor\n",
    "from xgboost import plot_importance\n",
    "\n",
    "from sklearn.model_selection import KFold\n",
    "\n",
    "from sklearn.preprocessing import LabelEncoder"
   ]
  },
  {
   "cell_type": "code",
   "execution_count": 2,
   "metadata": {},
   "outputs": [],
   "source": [
    "#De 1993-01-01 até 1997-12-29\n",
    "df_account = pd.read_csv('account.csv', sep = ';', parse_dates = ['date'])"
   ]
  },
  {
   "cell_type": "code",
   "execution_count": 3,
   "metadata": {},
   "outputs": [],
   "source": [
    "#Transações de 1993-01-01 até 1998-12-31\n",
    "df_trans = pd.read_csv('trans.csv', sep = ';', parse_dates = ['date'], low_memory = False)"
   ]
  },
  {
   "cell_type": "code",
   "execution_count": 5,
   "metadata": {},
   "outputs": [
    {
     "data": {
      "text/html": [
       "<div>\n",
       "<style scoped>\n",
       "    .dataframe tbody tr th:only-of-type {\n",
       "        vertical-align: middle;\n",
       "    }\n",
       "\n",
       "    .dataframe tbody tr th {\n",
       "        vertical-align: top;\n",
       "    }\n",
       "\n",
       "    .dataframe thead th {\n",
       "        text-align: right;\n",
       "    }\n",
       "</style>\n",
       "<table border=\"1\" class=\"dataframe\">\n",
       "  <thead>\n",
       "    <tr style=\"text-align: right;\">\n",
       "      <th></th>\n",
       "      <th>trans_id</th>\n",
       "      <th>account_id</th>\n",
       "      <th>date</th>\n",
       "      <th>type</th>\n",
       "      <th>operation</th>\n",
       "      <th>amount</th>\n",
       "      <th>balance</th>\n",
       "      <th>k_symbol</th>\n",
       "      <th>bank</th>\n",
       "      <th>account</th>\n",
       "    </tr>\n",
       "  </thead>\n",
       "  <tbody>\n",
       "    <tr>\n",
       "      <th>0</th>\n",
       "      <td>695247</td>\n",
       "      <td>2378</td>\n",
       "      <td>1993-01-01</td>\n",
       "      <td>PRIJEM</td>\n",
       "      <td>VKLAD</td>\n",
       "      <td>700.0</td>\n",
       "      <td>700.0</td>\n",
       "      <td>NaN</td>\n",
       "      <td>NaN</td>\n",
       "      <td>NaN</td>\n",
       "    </tr>\n",
       "    <tr>\n",
       "      <th>1</th>\n",
       "      <td>171812</td>\n",
       "      <td>576</td>\n",
       "      <td>1993-01-01</td>\n",
       "      <td>PRIJEM</td>\n",
       "      <td>VKLAD</td>\n",
       "      <td>900.0</td>\n",
       "      <td>900.0</td>\n",
       "      <td>NaN</td>\n",
       "      <td>NaN</td>\n",
       "      <td>NaN</td>\n",
       "    </tr>\n",
       "    <tr>\n",
       "      <th>2</th>\n",
       "      <td>207264</td>\n",
       "      <td>704</td>\n",
       "      <td>1993-01-01</td>\n",
       "      <td>PRIJEM</td>\n",
       "      <td>VKLAD</td>\n",
       "      <td>1000.0</td>\n",
       "      <td>1000.0</td>\n",
       "      <td>NaN</td>\n",
       "      <td>NaN</td>\n",
       "      <td>NaN</td>\n",
       "    </tr>\n",
       "    <tr>\n",
       "      <th>3</th>\n",
       "      <td>1117247</td>\n",
       "      <td>3818</td>\n",
       "      <td>1993-01-01</td>\n",
       "      <td>PRIJEM</td>\n",
       "      <td>VKLAD</td>\n",
       "      <td>600.0</td>\n",
       "      <td>600.0</td>\n",
       "      <td>NaN</td>\n",
       "      <td>NaN</td>\n",
       "      <td>NaN</td>\n",
       "    </tr>\n",
       "    <tr>\n",
       "      <th>4</th>\n",
       "      <td>579373</td>\n",
       "      <td>1972</td>\n",
       "      <td>1993-01-02</td>\n",
       "      <td>PRIJEM</td>\n",
       "      <td>VKLAD</td>\n",
       "      <td>400.0</td>\n",
       "      <td>400.0</td>\n",
       "      <td>NaN</td>\n",
       "      <td>NaN</td>\n",
       "      <td>NaN</td>\n",
       "    </tr>\n",
       "  </tbody>\n",
       "</table>\n",
       "</div>"
      ],
      "text/plain": [
       "   trans_id  account_id       date    type operation  amount  balance  \\\n",
       "0    695247        2378 1993-01-01  PRIJEM     VKLAD   700.0    700.0   \n",
       "1    171812         576 1993-01-01  PRIJEM     VKLAD   900.0    900.0   \n",
       "2    207264         704 1993-01-01  PRIJEM     VKLAD  1000.0   1000.0   \n",
       "3   1117247        3818 1993-01-01  PRIJEM     VKLAD   600.0    600.0   \n",
       "4    579373        1972 1993-01-02  PRIJEM     VKLAD   400.0    400.0   \n",
       "\n",
       "  k_symbol bank  account  \n",
       "0      NaN  NaN      NaN  \n",
       "1      NaN  NaN      NaN  \n",
       "2      NaN  NaN      NaN  \n",
       "3      NaN  NaN      NaN  \n",
       "4      NaN  NaN      NaN  "
      ]
     },
     "execution_count": 5,
     "metadata": {},
     "output_type": "execute_result"
    }
   ],
   "source": [
    "df_trans.head()"
   ]
  },
  {
   "cell_type": "code",
   "execution_count": 33,
   "metadata": {},
   "outputs": [
    {
     "data": {
      "text/html": [
       "<div>\n",
       "<style scoped>\n",
       "    .dataframe tbody tr th:only-of-type {\n",
       "        vertical-align: middle;\n",
       "    }\n",
       "\n",
       "    .dataframe tbody tr th {\n",
       "        vertical-align: top;\n",
       "    }\n",
       "\n",
       "    .dataframe thead th {\n",
       "        text-align: right;\n",
       "    }\n",
       "</style>\n",
       "<table border=\"1\" class=\"dataframe\">\n",
       "  <thead>\n",
       "    <tr style=\"text-align: right;\">\n",
       "      <th></th>\n",
       "      <th>account_id</th>\n",
       "      <th>district_id</th>\n",
       "      <th>frequency</th>\n",
       "      <th>date</th>\n",
       "    </tr>\n",
       "  </thead>\n",
       "  <tbody>\n",
       "    <tr>\n",
       "      <th>0</th>\n",
       "      <td>576</td>\n",
       "      <td>55</td>\n",
       "      <td>monthly issuance</td>\n",
       "      <td>1993-01-01</td>\n",
       "    </tr>\n",
       "    <tr>\n",
       "      <th>1</th>\n",
       "      <td>3818</td>\n",
       "      <td>74</td>\n",
       "      <td>monthly issuance</td>\n",
       "      <td>1993-01-01</td>\n",
       "    </tr>\n",
       "    <tr>\n",
       "      <th>2</th>\n",
       "      <td>704</td>\n",
       "      <td>55</td>\n",
       "      <td>monthly issuance</td>\n",
       "      <td>1993-01-01</td>\n",
       "    </tr>\n",
       "    <tr>\n",
       "      <th>3</th>\n",
       "      <td>2378</td>\n",
       "      <td>16</td>\n",
       "      <td>monthly issuance</td>\n",
       "      <td>1993-01-01</td>\n",
       "    </tr>\n",
       "    <tr>\n",
       "      <th>4</th>\n",
       "      <td>2632</td>\n",
       "      <td>24</td>\n",
       "      <td>monthly issuance</td>\n",
       "      <td>1993-01-02</td>\n",
       "    </tr>\n",
       "  </tbody>\n",
       "</table>\n",
       "</div>"
      ],
      "text/plain": [
       "   account_id  district_id         frequency       date\n",
       "0         576           55  monthly issuance 1993-01-01\n",
       "1        3818           74  monthly issuance 1993-01-01\n",
       "2         704           55  monthly issuance 1993-01-01\n",
       "3        2378           16  monthly issuance 1993-01-01\n",
       "4        2632           24  monthly issuance 1993-01-02"
      ]
     },
     "execution_count": 33,
     "metadata": {},
     "output_type": "execute_result"
    }
   ],
   "source": [
    "df_account.head()"
   ]
  },
  {
   "cell_type": "markdown",
   "metadata": {},
   "source": [
    "# Transactions DataFrame"
   ]
  },
  {
   "cell_type": "markdown",
   "metadata": {},
   "source": [
    "### Renomeando valores dos dados (Tcheco para inglês)"
   ]
  },
  {
   "cell_type": "code",
   "execution_count": 6,
   "metadata": {},
   "outputs": [
    {
     "data": {
      "text/plain": [
       "POPLATEK MESICNE      4167\n",
       "POPLATEK TYDNE         240\n",
       "POPLATEK PO OBRATU      93\n",
       "Name: frequency, dtype: int64"
      ]
     },
     "execution_count": 6,
     "metadata": {},
     "output_type": "execute_result"
    }
   ],
   "source": [
    "df_account['frequency'].value_counts()"
   ]
  },
  {
   "cell_type": "code",
   "execution_count": 7,
   "metadata": {},
   "outputs": [],
   "source": [
    "#frequency of issuance of statements:\n",
    "freq_insu = {\"POPLATEK MESICNE\" : \"monthly issuance\", \n",
    "             \"POPLATEK TYDNE\" : \"weekly issuance\", \n",
    "             \"POPLATEK PO OBRATU\": \"issuance after transaction\"}\n",
    "\n",
    "df_account['frequency'] = df_account['frequency'].map(freq_insu)"
   ]
  },
  {
   "cell_type": "code",
   "execution_count": 8,
   "metadata": {},
   "outputs": [],
   "source": [
    "operation_dict = {\"VYBER KARTOU\" : \"credit card withdrawal\", \n",
    "             \"VKLAD\" : \"credit in cash\", \n",
    "             \"PREVOD Z UCTU\": \"collection from another bank\", \n",
    "             \"VYBER\" : \"withdrawal in cash\", \n",
    "             \"PREVOD NA UCET\": \"remittance to another bank\"}"
   ]
  },
  {
   "cell_type": "code",
   "execution_count": 9,
   "metadata": {},
   "outputs": [],
   "source": [
    "df_trans['operation'] = df_trans['operation'].map(operation_dict)"
   ]
  },
  {
   "cell_type": "code",
   "execution_count": 11,
   "metadata": {},
   "outputs": [],
   "source": [
    "type_dict = {\"PRIJEM\" : \"credit\", \n",
    "             \"VYDAJ\" : \"withdrawal\"}"
   ]
  },
  {
   "cell_type": "code",
   "execution_count": 12,
   "metadata": {},
   "outputs": [],
   "source": [
    "df_trans['type'] = df_trans['type'].map(type_dict)"
   ]
  },
  {
   "cell_type": "code",
   "execution_count": 13,
   "metadata": {},
   "outputs": [],
   "source": [
    "k_symbol_dict = {\"POJISTNE\" : \"insurance payment\", \n",
    "                 \"SLUZBY\" : \"payment for statement\", \n",
    "                 \"UROK\" : \"interest credited\", \n",
    "                 \"SANKC. UROK\" : \"sanction interest if neg. balance\", \n",
    "                 \"SIPO\" : \"household\", \n",
    "                 \"DUCHOD\" : \"old-age pension\", \n",
    "                 \"UVER\" : \"loan payment\"}"
   ]
  },
  {
   "cell_type": "code",
   "execution_count": 14,
   "metadata": {},
   "outputs": [],
   "source": [
    "df_trans['k_symbol'] = df_trans['k_symbol'].map(k_symbol_dict)"
   ]
  },
  {
   "cell_type": "code",
   "execution_count": 15,
   "metadata": {},
   "outputs": [
    {
     "data": {
      "text/html": [
       "<div>\n",
       "<style scoped>\n",
       "    .dataframe tbody tr th:only-of-type {\n",
       "        vertical-align: middle;\n",
       "    }\n",
       "\n",
       "    .dataframe tbody tr th {\n",
       "        vertical-align: top;\n",
       "    }\n",
       "\n",
       "    .dataframe thead th {\n",
       "        text-align: right;\n",
       "    }\n",
       "</style>\n",
       "<table border=\"1\" class=\"dataframe\">\n",
       "  <thead>\n",
       "    <tr style=\"text-align: right;\">\n",
       "      <th></th>\n",
       "      <th>trans_id</th>\n",
       "      <th>account_id</th>\n",
       "      <th>date</th>\n",
       "      <th>type</th>\n",
       "      <th>operation</th>\n",
       "      <th>amount</th>\n",
       "      <th>balance</th>\n",
       "      <th>k_symbol</th>\n",
       "      <th>bank</th>\n",
       "      <th>account</th>\n",
       "    </tr>\n",
       "  </thead>\n",
       "  <tbody>\n",
       "    <tr>\n",
       "      <th>0</th>\n",
       "      <td>695247</td>\n",
       "      <td>2378</td>\n",
       "      <td>1993-01-01</td>\n",
       "      <td>credit</td>\n",
       "      <td>credit in cash</td>\n",
       "      <td>700.0</td>\n",
       "      <td>700.0</td>\n",
       "      <td>NaN</td>\n",
       "      <td>NaN</td>\n",
       "      <td>NaN</td>\n",
       "    </tr>\n",
       "    <tr>\n",
       "      <th>1</th>\n",
       "      <td>171812</td>\n",
       "      <td>576</td>\n",
       "      <td>1993-01-01</td>\n",
       "      <td>credit</td>\n",
       "      <td>credit in cash</td>\n",
       "      <td>900.0</td>\n",
       "      <td>900.0</td>\n",
       "      <td>NaN</td>\n",
       "      <td>NaN</td>\n",
       "      <td>NaN</td>\n",
       "    </tr>\n",
       "    <tr>\n",
       "      <th>2</th>\n",
       "      <td>207264</td>\n",
       "      <td>704</td>\n",
       "      <td>1993-01-01</td>\n",
       "      <td>credit</td>\n",
       "      <td>credit in cash</td>\n",
       "      <td>1000.0</td>\n",
       "      <td>1000.0</td>\n",
       "      <td>NaN</td>\n",
       "      <td>NaN</td>\n",
       "      <td>NaN</td>\n",
       "    </tr>\n",
       "    <tr>\n",
       "      <th>3</th>\n",
       "      <td>1117247</td>\n",
       "      <td>3818</td>\n",
       "      <td>1993-01-01</td>\n",
       "      <td>credit</td>\n",
       "      <td>credit in cash</td>\n",
       "      <td>600.0</td>\n",
       "      <td>600.0</td>\n",
       "      <td>NaN</td>\n",
       "      <td>NaN</td>\n",
       "      <td>NaN</td>\n",
       "    </tr>\n",
       "    <tr>\n",
       "      <th>4</th>\n",
       "      <td>579373</td>\n",
       "      <td>1972</td>\n",
       "      <td>1993-01-02</td>\n",
       "      <td>credit</td>\n",
       "      <td>credit in cash</td>\n",
       "      <td>400.0</td>\n",
       "      <td>400.0</td>\n",
       "      <td>NaN</td>\n",
       "      <td>NaN</td>\n",
       "      <td>NaN</td>\n",
       "    </tr>\n",
       "  </tbody>\n",
       "</table>\n",
       "</div>"
      ],
      "text/plain": [
       "   trans_id  account_id       date    type       operation  amount  balance  \\\n",
       "0    695247        2378 1993-01-01  credit  credit in cash   700.0    700.0   \n",
       "1    171812         576 1993-01-01  credit  credit in cash   900.0    900.0   \n",
       "2    207264         704 1993-01-01  credit  credit in cash  1000.0   1000.0   \n",
       "3   1117247        3818 1993-01-01  credit  credit in cash   600.0    600.0   \n",
       "4    579373        1972 1993-01-02  credit  credit in cash   400.0    400.0   \n",
       "\n",
       "  k_symbol bank  account  \n",
       "0      NaN  NaN      NaN  \n",
       "1      NaN  NaN      NaN  \n",
       "2      NaN  NaN      NaN  \n",
       "3      NaN  NaN      NaN  \n",
       "4      NaN  NaN      NaN  "
      ]
     },
     "execution_count": 15,
     "metadata": {},
     "output_type": "execute_result"
    }
   ],
   "source": [
    "df_trans.head()"
   ]
  },
  {
   "cell_type": "code",
   "execution_count": 140,
   "metadata": {},
   "outputs": [],
   "source": [
    "#xx = df_trans[df_trans['account_id'] == 2378]"
   ]
  },
  {
   "cell_type": "code",
   "execution_count": 161,
   "metadata": {},
   "outputs": [],
   "source": [
    "#xx.info()"
   ]
  },
  {
   "cell_type": "code",
   "execution_count": 142,
   "metadata": {},
   "outputs": [],
   "source": [
    "##xx[xx['k_symbol'] == 'household'].head()"
   ]
  },
  {
   "cell_type": "code",
   "execution_count": 144,
   "metadata": {},
   "outputs": [],
   "source": [
    "#df_order[df_order['account_id'] == 2378]"
   ]
  },
  {
   "cell_type": "code",
   "execution_count": 90,
   "metadata": {},
   "outputs": [
    {
     "data": {
      "image/png": "[encoded data removed]",
      "text/plain": [
       "<Figure size 432x288 with 1 Axes>"
      ]
     },
     "metadata": {},
     "output_type": "display_data"
    }
   ],
   "source": [
    "plt.plot(xx['balance'])\n",
    "plt.show()"
   ]
  },
  {
   "cell_type": "markdown",
   "metadata": {},
   "source": [
    "### Features auxiliares\n",
    "\n",
    "Mês transação, ano"
   ]
  },
  {
   "cell_type": "code",
   "execution_count": 18,
   "metadata": {},
   "outputs": [],
   "source": [
    "df_trans['month'] = pd.DatetimeIndex(df_trans['date']).month"
   ]
  },
  {
   "cell_type": "code",
   "execution_count": 19,
   "metadata": {},
   "outputs": [],
   "source": [
    "df_trans['year'] = pd.DatetimeIndex(df_trans['date']).year"
   ]
  },
  {
   "cell_type": "code",
   "execution_count": 20,
   "metadata": {},
   "outputs": [],
   "source": [
    "#df_trans['day_of_week'] = pd.DatetimeIndex(df_trans['date']).dayofweek"
   ]
  },
  {
   "cell_type": "code",
   "execution_count": 21,
   "metadata": {
    "scrolled": true
   },
   "outputs": [
    {
     "data": {
      "text/plain": [
       "1998    322277\n",
       "1997    284409\n",
       "1996    196779\n",
       "1995    133022\n",
       "1994     91628\n",
       "1993     28205\n",
       "Name: year, dtype: int64"
      ]
     },
     "execution_count": 21,
     "metadata": {},
     "output_type": "execute_result"
    }
   ],
   "source": [
    "df_trans['year'].value_counts()"
   ]
  },
  {
   "cell_type": "markdown",
   "metadata": {},
   "source": [
    "### Coluna para mapear unicamente cada mês presente no dataset\n",
    "\n",
    "Feature auxiliar, será usada para auxiliar futuras operações"
   ]
  },
  {
   "cell_type": "code",
   "execution_count": 23,
   "metadata": {},
   "outputs": [],
   "source": [
    "#Previsão de gastos mensais de cada usuário\n",
    "#Agrupar por Ano, mês"
   ]
  },
  {
   "cell_type": "code",
   "execution_count": 23,
   "metadata": {},
   "outputs": [],
   "source": [
    "##Valores únicos de cada mês\n",
    "df_trans['m_y'] = df_trans['month'].apply(str) + '_' + df_trans['year'].apply(str)"
   ]
  },
  {
   "cell_type": "code",
   "execution_count": 24,
   "metadata": {
    "collapsed": true
   },
   "outputs": [
    {
     "data": {
      "text/plain": [
       "array(['1_1993', '2_1993', '3_1993', '4_1993', '5_1993', '6_1993',\n",
       "       '7_1993', '8_1993', '9_1993', '10_1993', '11_1993', '12_1993',\n",
       "       '1_1994', '2_1994', '3_1994', '4_1994', '5_1994', '6_1994',\n",
       "       '7_1994', '8_1994', '9_1994', '10_1994', '11_1994', '12_1994',\n",
       "       '1_1995', '2_1995', '3_1995', '4_1995', '5_1995', '6_1995',\n",
       "       '7_1995', '8_1995', '9_1995', '10_1995', '11_1995', '12_1995',\n",
       "       '1_1996', '2_1996', '3_1996', '4_1996', '5_1996', '6_1996',\n",
       "       '7_1996', '8_1996', '9_1996', '10_1996', '11_1996', '12_1996',\n",
       "       '1_1997', '2_1997', '3_1997', '4_1997', '5_1997', '6_1997',\n",
       "       '7_1997', '8_1997', '9_1997', '10_1997', '11_1997', '12_1997',\n",
       "       '1_1998', '2_1998', '3_1998', '4_1998', '5_1998', '6_1998',\n",
       "       '7_1998', '8_1998', '9_1998', '10_1998', '11_1998', '12_1998'],\n",
       "      dtype=object)"
      ]
     },
     "execution_count": 24,
     "metadata": {},
     "output_type": "execute_result"
    }
   ],
   "source": [
    "list_unique = df_trans['m_y'].unique()\n",
    "list_unique"
   ]
  },
  {
   "cell_type": "code",
   "execution_count": 25,
   "metadata": {
    "collapsed": true
   },
   "outputs": [
    {
     "data": {
      "text/plain": [
       "{'1_1993': 0,\n",
       " '2_1993': 1,\n",
       " '3_1993': 2,\n",
       " '4_1993': 3,\n",
       " '5_1993': 4,\n",
       " '6_1993': 5,\n",
       " '7_1993': 6,\n",
       " '8_1993': 7,\n",
       " '9_1993': 8,\n",
       " '10_1993': 9,\n",
       " '11_1993': 10,\n",
       " '12_1993': 11,\n",
       " '1_1994': 12,\n",
       " '2_1994': 13,\n",
       " '3_1994': 14,\n",
       " '4_1994': 15,\n",
       " '5_1994': 16,\n",
       " '6_1994': 17,\n",
       " '7_1994': 18,\n",
       " '8_1994': 19,\n",
       " '9_1994': 20,\n",
       " '10_1994': 21,\n",
       " '11_1994': 22,\n",
       " '12_1994': 23,\n",
       " '1_1995': 24,\n",
       " '2_1995': 25,\n",
       " '3_1995': 26,\n",
       " '4_1995': 27,\n",
       " '5_1995': 28,\n",
       " '6_1995': 29,\n",
       " '7_1995': 30,\n",
       " '8_1995': 31,\n",
       " '9_1995': 32,\n",
       " '10_1995': 33,\n",
       " '11_1995': 34,\n",
       " '12_1995': 35,\n",
       " '1_1996': 36,\n",
       " '2_1996': 37,\n",
       " '3_1996': 38,\n",
       " '4_1996': 39,\n",
       " '5_1996': 40,\n",
       " '6_1996': 41,\n",
       " '7_1996': 42,\n",
       " '8_1996': 43,\n",
       " '9_1996': 44,\n",
       " '10_1996': 45,\n",
       " '11_1996': 46,\n",
       " '12_1996': 47,\n",
       " '1_1997': 48,\n",
       " '2_1997': 49,\n",
       " '3_1997': 50,\n",
       " '4_1997': 51,\n",
       " '5_1997': 52,\n",
       " '6_1997': 53,\n",
       " '7_1997': 54,\n",
       " '8_1997': 55,\n",
       " '9_1997': 56,\n",
       " '10_1997': 57,\n",
       " '11_1997': 58,\n",
       " '12_1997': 59,\n",
       " '1_1998': 60,\n",
       " '2_1998': 61,\n",
       " '3_1998': 62,\n",
       " '4_1998': 63,\n",
       " '5_1998': 64,\n",
       " '6_1998': 65,\n",
       " '7_1998': 66,\n",
       " '8_1998': 67,\n",
       " '9_1998': 68,\n",
       " '10_1998': 69,\n",
       " '11_1998': 70,\n",
       " '12_1998': 71}"
      ]
     },
     "execution_count": 25,
     "metadata": {},
     "output_type": "execute_result"
    }
   ],
   "source": [
    "dictOfUniqueMonths = { list_unique[i] : i  for i in range(0, len(list_unique) ) }\n",
    "dictOfUniqueMonths"
   ]
  },
  {
   "cell_type": "code",
   "execution_count": 26,
   "metadata": {},
   "outputs": [],
   "source": [
    "#date_block_num - Número de meses consecutivos, usaremos por conveniência\n",
    "df_trans['date_block_num'] = df_trans['m_y'].map(dictOfUniqueMonths)\n",
    "\n",
    "#Constata-se que temos 71 meses\n",
    "df_trans.drop(['m_y'], axis = 1, inplace = True)"
   ]
  },
  {
   "cell_type": "code",
   "execution_count": 27,
   "metadata": {},
   "outputs": [
    {
     "data": {
      "text/html": [
       "<div>\n",
       "<style scoped>\n",
       "    .dataframe tbody tr th:only-of-type {\n",
       "        vertical-align: middle;\n",
       "    }\n",
       "\n",
       "    .dataframe tbody tr th {\n",
       "        vertical-align: top;\n",
       "    }\n",
       "\n",
       "    .dataframe thead th {\n",
       "        text-align: right;\n",
       "    }\n",
       "</style>\n",
       "<table border=\"1\" class=\"dataframe\">\n",
       "  <thead>\n",
       "    <tr style=\"text-align: right;\">\n",
       "      <th></th>\n",
       "      <th>trans_id</th>\n",
       "      <th>account_id</th>\n",
       "      <th>date</th>\n",
       "      <th>type</th>\n",
       "      <th>operation</th>\n",
       "      <th>amount</th>\n",
       "      <th>balance</th>\n",
       "      <th>k_symbol</th>\n",
       "      <th>bank</th>\n",
       "      <th>account</th>\n",
       "      <th>frequency</th>\n",
       "      <th>month</th>\n",
       "      <th>year</th>\n",
       "      <th>date_block_num</th>\n",
       "    </tr>\n",
       "  </thead>\n",
       "  <tbody>\n",
       "    <tr>\n",
       "      <th>0</th>\n",
       "      <td>695247</td>\n",
       "      <td>2378</td>\n",
       "      <td>1993-01-01</td>\n",
       "      <td>credit</td>\n",
       "      <td>credit in cash</td>\n",
       "      <td>700.0</td>\n",
       "      <td>700.0</td>\n",
       "      <td>NaN</td>\n",
       "      <td>NaN</td>\n",
       "      <td>NaN</td>\n",
       "      <td>monthly issuance</td>\n",
       "      <td>1</td>\n",
       "      <td>1993</td>\n",
       "      <td>0</td>\n",
       "    </tr>\n",
       "    <tr>\n",
       "      <th>1</th>\n",
       "      <td>171812</td>\n",
       "      <td>576</td>\n",
       "      <td>1993-01-01</td>\n",
       "      <td>credit</td>\n",
       "      <td>credit in cash</td>\n",
       "      <td>900.0</td>\n",
       "      <td>900.0</td>\n",
       "      <td>NaN</td>\n",
       "      <td>NaN</td>\n",
       "      <td>NaN</td>\n",
       "      <td>monthly issuance</td>\n",
       "      <td>1</td>\n",
       "      <td>1993</td>\n",
       "      <td>0</td>\n",
       "    </tr>\n",
       "    <tr>\n",
       "      <th>2</th>\n",
       "      <td>207264</td>\n",
       "      <td>704</td>\n",
       "      <td>1993-01-01</td>\n",
       "      <td>credit</td>\n",
       "      <td>credit in cash</td>\n",
       "      <td>1000.0</td>\n",
       "      <td>1000.0</td>\n",
       "      <td>NaN</td>\n",
       "      <td>NaN</td>\n",
       "      <td>NaN</td>\n",
       "      <td>monthly issuance</td>\n",
       "      <td>1</td>\n",
       "      <td>1993</td>\n",
       "      <td>0</td>\n",
       "    </tr>\n",
       "    <tr>\n",
       "      <th>3</th>\n",
       "      <td>1117247</td>\n",
       "      <td>3818</td>\n",
       "      <td>1993-01-01</td>\n",
       "      <td>credit</td>\n",
       "      <td>credit in cash</td>\n",
       "      <td>600.0</td>\n",
       "      <td>600.0</td>\n",
       "      <td>NaN</td>\n",
       "      <td>NaN</td>\n",
       "      <td>NaN</td>\n",
       "      <td>monthly issuance</td>\n",
       "      <td>1</td>\n",
       "      <td>1993</td>\n",
       "      <td>0</td>\n",
       "    </tr>\n",
       "    <tr>\n",
       "      <th>4</th>\n",
       "      <td>579373</td>\n",
       "      <td>1972</td>\n",
       "      <td>1993-01-02</td>\n",
       "      <td>credit</td>\n",
       "      <td>credit in cash</td>\n",
       "      <td>400.0</td>\n",
       "      <td>400.0</td>\n",
       "      <td>NaN</td>\n",
       "      <td>NaN</td>\n",
       "      <td>NaN</td>\n",
       "      <td>monthly issuance</td>\n",
       "      <td>1</td>\n",
       "      <td>1993</td>\n",
       "      <td>0</td>\n",
       "    </tr>\n",
       "  </tbody>\n",
       "</table>\n",
       "</div>"
      ],
      "text/plain": [
       "   trans_id  account_id       date    type       operation  amount  balance  \\\n",
       "0    695247        2378 1993-01-01  credit  credit in cash   700.0    700.0   \n",
       "1    171812         576 1993-01-01  credit  credit in cash   900.0    900.0   \n",
       "2    207264         704 1993-01-01  credit  credit in cash  1000.0   1000.0   \n",
       "3   1117247        3818 1993-01-01  credit  credit in cash   600.0    600.0   \n",
       "4    579373        1972 1993-01-02  credit  credit in cash   400.0    400.0   \n",
       "\n",
       "  k_symbol bank  account         frequency  month  year  date_block_num  \n",
       "0      NaN  NaN      NaN  monthly issuance      1  1993               0  \n",
       "1      NaN  NaN      NaN  monthly issuance      1  1993               0  \n",
       "2      NaN  NaN      NaN  monthly issuance      1  1993               0  \n",
       "3      NaN  NaN      NaN  monthly issuance      1  1993               0  \n",
       "4      NaN  NaN      NaN  monthly issuance      1  1993               0  "
      ]
     },
     "execution_count": 27,
     "metadata": {},
     "output_type": "execute_result"
    }
   ],
   "source": [
    "df_trans.head()"
   ]
  },
  {
   "cell_type": "markdown",
   "metadata": {},
   "source": [
    "## Pré processamento dos dados"
   ]
  },
  {
   "cell_type": "markdown",
   "metadata": {},
   "source": [
    "**Preencher valores nulos da coluna 'type' (tipo de operação - Entrada de dinheiro ou retirada) ** <br>\n",
    "\n",
    "A lógica é: Como os valores da coluna de operação indicam retirada (withdrawal), \n",
    "consequentemente, o tipo da operação é de retirada também"
   ]
  },
  {
   "cell_type": "code",
   "execution_count": 28,
   "metadata": {},
   "outputs": [
    {
     "data": {
      "text/plain": [
       "withdrawal in cash              434918\n",
       "remittance to another bank      208283\n",
       "credit in cash                  156743\n",
       "collection from another bank     65226\n",
       "credit card withdrawal            8036\n",
       "Name: operation, dtype: int64"
      ]
     },
     "execution_count": 28,
     "metadata": {},
     "output_type": "execute_result"
    }
   ],
   "source": [
    "df_trans['operation'].value_counts()"
   ]
  },
  {
   "cell_type": "code",
   "execution_count": 29,
   "metadata": {},
   "outputs": [
    {
     "data": {
      "text/plain": [
       "withdrawal in cash    16666\n",
       "Name: operation, dtype: int64"
      ]
     },
     "execution_count": 29,
     "metadata": {},
     "output_type": "execute_result"
    }
   ],
   "source": [
    "#Preencher valores nulos da coluna 'type'\n",
    "#Seleção das linhas com tipo nulo e valores da coluna de operação\n",
    "df_trans[df_trans['type'].isnull()]['operation'].value_counts()"
   ]
  },
  {
   "cell_type": "code",
   "execution_count": 30,
   "metadata": {},
   "outputs": [],
   "source": [
    "df_trans.loc[df_trans['type'].isnull(), 'type'] = 'withdrawal'"
   ]
  },
  {
   "cell_type": "code",
   "execution_count": 31,
   "metadata": {},
   "outputs": [
    {
     "data": {
      "text/plain": [
       "Series([], Name: operation, dtype: int64)"
      ]
     },
     "execution_count": 31,
     "metadata": {},
     "output_type": "execute_result"
    }
   ],
   "source": [
    "df_trans[df_trans['type'].isnull()]['operation'].value_counts()"
   ]
  },
  {
   "cell_type": "markdown",
   "metadata": {},
   "source": [
    "## Definir Matriz de 'Features'\n",
    "\n",
    "A matriz de features será usada para agrupar as operações nas contas a cada mês, considerando se houve ou não alguma movimentação e quais esses valores."
   ]
  },
  {
   "cell_type": "code",
   "execution_count": 32,
   "metadata": {},
   "outputs": [],
   "source": [
    "# Criando um \"grid\" com as seguintes colunas\n",
    "index_cols = ['account_id', 'date_block_num']\n",
    "\n",
    "grid = [] \n",
    "for month_num in df_trans['date_block_num'].unique():\n",
    "    #Contas que fizeram alguma transação no mês 'month_num'\n",
    "    cur_accounts = df_trans.loc[df_trans['date_block_num'] == month_num, 'account_id'].unique()\n",
    "    grid.append(np.array(list(product(*[cur_accounts, [month_num]])),dtype='int32'))\n",
    "    \n",
    "# Grid transformado em pandas dataframe\n",
    "grid = pd.DataFrame(np.vstack(grid), columns = index_cols,dtype=np.int32)"
   ]
  },
  {
   "cell_type": "code",
   "execution_count": 33,
   "metadata": {},
   "outputs": [
    {
     "data": {
      "text/html": [
       "<div>\n",
       "<style scoped>\n",
       "    .dataframe tbody tr th:only-of-type {\n",
       "        vertical-align: middle;\n",
       "    }\n",
       "\n",
       "    .dataframe tbody tr th {\n",
       "        vertical-align: top;\n",
       "    }\n",
       "\n",
       "    .dataframe thead th {\n",
       "        text-align: right;\n",
       "    }\n",
       "</style>\n",
       "<table border=\"1\" class=\"dataframe\">\n",
       "  <thead>\n",
       "    <tr style=\"text-align: right;\">\n",
       "      <th></th>\n",
       "      <th>account_id</th>\n",
       "      <th>date_block_num</th>\n",
       "    </tr>\n",
       "  </thead>\n",
       "  <tbody>\n",
       "    <tr>\n",
       "      <th>0</th>\n",
       "      <td>2378</td>\n",
       "      <td>0</td>\n",
       "    </tr>\n",
       "    <tr>\n",
       "      <th>1</th>\n",
       "      <td>576</td>\n",
       "      <td>0</td>\n",
       "    </tr>\n",
       "    <tr>\n",
       "      <th>2</th>\n",
       "      <td>704</td>\n",
       "      <td>0</td>\n",
       "    </tr>\n",
       "    <tr>\n",
       "      <th>3</th>\n",
       "      <td>3818</td>\n",
       "      <td>0</td>\n",
       "    </tr>\n",
       "    <tr>\n",
       "      <th>4</th>\n",
       "      <td>1972</td>\n",
       "      <td>0</td>\n",
       "    </tr>\n",
       "  </tbody>\n",
       "</table>\n",
       "</div>"
      ],
      "text/plain": [
       "   account_id  date_block_num\n",
       "0        2378               0\n",
       "1         576               0\n",
       "2         704               0\n",
       "3        3818               0\n",
       "4        1972               0"
      ]
     },
     "execution_count": 33,
     "metadata": {},
     "output_type": "execute_result"
    }
   ],
   "source": [
    "grid.head()"
   ]
  },
  {
   "cell_type": "markdown",
   "metadata": {},
   "source": [
    "## Definir as seguintes features:\n",
    "<ul>\n",
    "    <li> Entrada de dinheiro na conta no determinado mês_sequencial </li>\n",
    "    <li> Gasto de dinheiro na conta no determinado mês_sequencial </li>\n",
    "    <li> Número de transações na conta e nº de transações de entrada e saída no determinado mês_sequencial </li> \n",
    "    <li> Balanço da conta ao fim de cada mês\n",
    "    <li> Mês (0-11) e número de dias do mês_sequencial </li>\n",
    "<ul>"
   ]
  },
  {
   "cell_type": "markdown",
   "metadata": {},
   "source": [
    "### Features 1 e 2 - Entrada e saída de dinheiro na conta no determinado mês_sequencial (date_block_num)\n",
    "\n",
    "Iniciamos agrupando os dados por mês e conta que realizou a transação, bem como o tipo de operação"
   ]
  },
  {
   "cell_type": "code",
   "execution_count": 75,
   "metadata": {},
   "outputs": [],
   "source": [
    "#df_trans[df_trans['account_id'] == 2378]"
   ]
  },
  {
   "cell_type": "code",
   "execution_count": 34,
   "metadata": {},
   "outputs": [],
   "source": [
    "gb = df_trans.groupby(['date_block_num', 'account_id', 'type'], as_index=False).agg({'amount':{('amount_month', 'sum')}})\n",
    "\n",
    "# Correção do nome das colunas\n",
    "gb.columns = [col[0] if col[-1]=='' else col[-1] for col in gb.columns.values] "
   ]
  },
  {
   "cell_type": "code",
   "execution_count": 35,
   "metadata": {},
   "outputs": [
    {
     "data": {
      "text/html": [
       "<div>\n",
       "<style scoped>\n",
       "    .dataframe tbody tr th:only-of-type {\n",
       "        vertical-align: middle;\n",
       "    }\n",
       "\n",
       "    .dataframe tbody tr th {\n",
       "        vertical-align: top;\n",
       "    }\n",
       "\n",
       "    .dataframe thead th {\n",
       "        text-align: right;\n",
       "    }\n",
       "</style>\n",
       "<table border=\"1\" class=\"dataframe\">\n",
       "  <thead>\n",
       "    <tr style=\"text-align: right;\">\n",
       "      <th></th>\n",
       "      <th>date_block_num</th>\n",
       "      <th>account_id</th>\n",
       "      <th>type</th>\n",
       "      <th>amount_month</th>\n",
       "    </tr>\n",
       "  </thead>\n",
       "  <tbody>\n",
       "    <tr>\n",
       "      <th>355523</th>\n",
       "      <td>71</td>\n",
       "      <td>11359</td>\n",
       "      <td>withdrawal</td>\n",
       "      <td>29372.0</td>\n",
       "    </tr>\n",
       "    <tr>\n",
       "      <th>355524</th>\n",
       "      <td>71</td>\n",
       "      <td>11362</td>\n",
       "      <td>credit</td>\n",
       "      <td>24374.8</td>\n",
       "    </tr>\n",
       "    <tr>\n",
       "      <th>355525</th>\n",
       "      <td>71</td>\n",
       "      <td>11362</td>\n",
       "      <td>withdrawal</td>\n",
       "      <td>13567.0</td>\n",
       "    </tr>\n",
       "    <tr>\n",
       "      <th>355526</th>\n",
       "      <td>71</td>\n",
       "      <td>11382</td>\n",
       "      <td>credit</td>\n",
       "      <td>46860.4</td>\n",
       "    </tr>\n",
       "    <tr>\n",
       "      <th>355527</th>\n",
       "      <td>71</td>\n",
       "      <td>11382</td>\n",
       "      <td>withdrawal</td>\n",
       "      <td>31900.0</td>\n",
       "    </tr>\n",
       "  </tbody>\n",
       "</table>\n",
       "</div>"
      ],
      "text/plain": [
       "        date_block_num  account_id        type  amount_month\n",
       "355523              71       11359  withdrawal       29372.0\n",
       "355524              71       11362      credit       24374.8\n",
       "355525              71       11362  withdrawal       13567.0\n",
       "355526              71       11382      credit       46860.4\n",
       "355527              71       11382  withdrawal       31900.0"
      ]
     },
     "execution_count": 35,
     "metadata": {},
     "output_type": "execute_result"
    }
   ],
   "source": [
    "gb.tail()"
   ]
  },
  {
   "cell_type": "markdown",
   "metadata": {},
   "source": [
    "Dois novos dataframes separados por tipo de operação"
   ]
  },
  {
   "cell_type": "code",
   "execution_count": 36,
   "metadata": {},
   "outputs": [],
   "source": [
    "gb_credit = gb[gb['type'] == 'credit'].drop(['type'], axis = 1).rename(columns={\"amount_month\": \"incoming\"}).copy()\n",
    "gb_withdrawal = gb[gb['type'] == 'withdrawal'].drop(['type'], axis = 1).rename(columns={\"amount_month\": \"withdrawal\"}).copy()"
   ]
  },
  {
   "cell_type": "code",
   "execution_count": 37,
   "metadata": {},
   "outputs": [
    {
     "data": {
      "text/html": [
       "<div>\n",
       "<style scoped>\n",
       "    .dataframe tbody tr th:only-of-type {\n",
       "        vertical-align: middle;\n",
       "    }\n",
       "\n",
       "    .dataframe tbody tr th {\n",
       "        vertical-align: top;\n",
       "    }\n",
       "\n",
       "    .dataframe thead th {\n",
       "        text-align: right;\n",
       "    }\n",
       "</style>\n",
       "<table border=\"1\" class=\"dataframe\">\n",
       "  <thead>\n",
       "    <tr style=\"text-align: right;\">\n",
       "      <th></th>\n",
       "      <th>date_block_num</th>\n",
       "      <th>account_id</th>\n",
       "      <th>incoming</th>\n",
       "    </tr>\n",
       "  </thead>\n",
       "  <tbody>\n",
       "    <tr>\n",
       "      <th>0</th>\n",
       "      <td>0</td>\n",
       "      <td>9</td>\n",
       "      <td>400.0</td>\n",
       "    </tr>\n",
       "    <tr>\n",
       "      <th>1</th>\n",
       "      <td>0</td>\n",
       "      <td>163</td>\n",
       "      <td>900.0</td>\n",
       "    </tr>\n",
       "    <tr>\n",
       "      <th>2</th>\n",
       "      <td>0</td>\n",
       "      <td>192</td>\n",
       "      <td>300.0</td>\n",
       "    </tr>\n",
       "    <tr>\n",
       "      <th>3</th>\n",
       "      <td>0</td>\n",
       "      <td>212</td>\n",
       "      <td>200.0</td>\n",
       "    </tr>\n",
       "    <tr>\n",
       "      <th>4</th>\n",
       "      <td>0</td>\n",
       "      <td>280</td>\n",
       "      <td>300.0</td>\n",
       "    </tr>\n",
       "  </tbody>\n",
       "</table>\n",
       "</div>"
      ],
      "text/plain": [
       "   date_block_num  account_id  incoming\n",
       "0               0           9     400.0\n",
       "1               0         163     900.0\n",
       "2               0         192     300.0\n",
       "3               0         212     200.0\n",
       "4               0         280     300.0"
      ]
     },
     "execution_count": 37,
     "metadata": {},
     "output_type": "execute_result"
    }
   ],
   "source": [
    "gb_credit.head()"
   ]
  },
  {
   "cell_type": "code",
   "execution_count": 38,
   "metadata": {},
   "outputs": [
    {
     "data": {
      "text/html": [
       "<div>\n",
       "<style scoped>\n",
       "    .dataframe tbody tr th:only-of-type {\n",
       "        vertical-align: middle;\n",
       "    }\n",
       "\n",
       "    .dataframe tbody tr th {\n",
       "        vertical-align: top;\n",
       "    }\n",
       "\n",
       "    .dataframe thead th {\n",
       "        text-align: right;\n",
       "    }\n",
       "</style>\n",
       "<table border=\"1\" class=\"dataframe\">\n",
       "  <thead>\n",
       "    <tr style=\"text-align: right;\">\n",
       "      <th></th>\n",
       "      <th>date_block_num</th>\n",
       "      <th>account_id</th>\n",
       "      <th>withdrawal</th>\n",
       "    </tr>\n",
       "  </thead>\n",
       "  <tbody>\n",
       "    <tr>\n",
       "      <th>58</th>\n",
       "      <td>0</td>\n",
       "      <td>2378</td>\n",
       "      <td>34700.0</td>\n",
       "    </tr>\n",
       "    <tr>\n",
       "      <th>106</th>\n",
       "      <td>1</td>\n",
       "      <td>212</td>\n",
       "      <td>14800.0</td>\n",
       "    </tr>\n",
       "    <tr>\n",
       "      <th>113</th>\n",
       "      <td>1</td>\n",
       "      <td>374</td>\n",
       "      <td>1500.0</td>\n",
       "    </tr>\n",
       "    <tr>\n",
       "      <th>120</th>\n",
       "      <td>1</td>\n",
       "      <td>456</td>\n",
       "      <td>10500.0</td>\n",
       "    </tr>\n",
       "    <tr>\n",
       "      <th>126</th>\n",
       "      <td>1</td>\n",
       "      <td>485</td>\n",
       "      <td>25300.0</td>\n",
       "    </tr>\n",
       "  </tbody>\n",
       "</table>\n",
       "</div>"
      ],
      "text/plain": [
       "     date_block_num  account_id  withdrawal\n",
       "58                0        2378     34700.0\n",
       "106               1         212     14800.0\n",
       "113               1         374      1500.0\n",
       "120               1         456     10500.0\n",
       "126               1         485     25300.0"
      ]
     },
     "execution_count": 38,
     "metadata": {},
     "output_type": "execute_result"
    }
   ],
   "source": [
    "gb_withdrawal.head()"
   ]
  },
  {
   "cell_type": "markdown",
   "metadata": {},
   "source": [
    "Faz o 'merge' do grid com os novos dataframes"
   ]
  },
  {
   "cell_type": "code",
   "execution_count": 39,
   "metadata": {},
   "outputs": [],
   "source": [
    "all_data = pd.merge(grid, gb_credit, how='left', on=index_cols).fillna(0)"
   ]
  },
  {
   "cell_type": "code",
   "execution_count": 40,
   "metadata": {},
   "outputs": [],
   "source": [
    "all_data = pd.merge(all_data, gb_withdrawal, how='left', on=index_cols).fillna(0)"
   ]
  },
  {
   "cell_type": "code",
   "execution_count": 62,
   "metadata": {},
   "outputs": [],
   "source": [
    "#Feature da diferença entre o montante que entrou e saiu no mês\n",
    "#Pode ajudar aos algoritmos baseados em árvore a 'capturar' a relação\n",
    "all_data['difference_in_out'] = all_data['incoming'] - all_data['withdrawal']"
   ]
  },
  {
   "cell_type": "code",
   "execution_count": 63,
   "metadata": {},
   "outputs": [
    {
     "data": {
      "text/html": [
       "<div>\n",
       "<style scoped>\n",
       "    .dataframe tbody tr th:only-of-type {\n",
       "        vertical-align: middle;\n",
       "    }\n",
       "\n",
       "    .dataframe tbody tr th {\n",
       "        vertical-align: top;\n",
       "    }\n",
       "\n",
       "    .dataframe thead th {\n",
       "        text-align: right;\n",
       "    }\n",
       "</style>\n",
       "<table border=\"1\" class=\"dataframe\">\n",
       "  <thead>\n",
       "    <tr style=\"text-align: right;\">\n",
       "      <th></th>\n",
       "      <th>account_id</th>\n",
       "      <th>date_block_num</th>\n",
       "      <th>incoming</th>\n",
       "      <th>withdrawal</th>\n",
       "      <th>num_incoming_op</th>\n",
       "      <th>num_withdrawal_op</th>\n",
       "      <th>num_total_ops</th>\n",
       "      <th>balance_month</th>\n",
       "      <th>month</th>\n",
       "      <th>days</th>\n",
       "      <th>frequency</th>\n",
       "      <th>difference_in_out</th>\n",
       "    </tr>\n",
       "  </thead>\n",
       "  <tbody>\n",
       "    <tr>\n",
       "      <th>0</th>\n",
       "      <td>2378</td>\n",
       "      <td>0</td>\n",
       "      <td>94153.703125</td>\n",
       "      <td>34700.0</td>\n",
       "      <td>6.0</td>\n",
       "      <td>1.0</td>\n",
       "      <td>7.0</td>\n",
       "      <td>94153.703125</td>\n",
       "      <td>0</td>\n",
       "      <td>31</td>\n",
       "      <td>monthly issuance</td>\n",
       "      <td>59453.703125</td>\n",
       "    </tr>\n",
       "    <tr>\n",
       "      <th>1</th>\n",
       "      <td>576</td>\n",
       "      <td>0</td>\n",
       "      <td>7127.100098</td>\n",
       "      <td>0.0</td>\n",
       "      <td>3.0</td>\n",
       "      <td>0.0</td>\n",
       "      <td>3.0</td>\n",
       "      <td>7127.100098</td>\n",
       "      <td>0</td>\n",
       "      <td>31</td>\n",
       "      <td>monthly issuance</td>\n",
       "      <td>7127.100098</td>\n",
       "    </tr>\n",
       "    <tr>\n",
       "      <th>2</th>\n",
       "      <td>704</td>\n",
       "      <td>0</td>\n",
       "      <td>21427.099609</td>\n",
       "      <td>0.0</td>\n",
       "      <td>4.0</td>\n",
       "      <td>0.0</td>\n",
       "      <td>4.0</td>\n",
       "      <td>21427.099609</td>\n",
       "      <td>0</td>\n",
       "      <td>31</td>\n",
       "      <td>monthly issuance</td>\n",
       "      <td>21427.099609</td>\n",
       "    </tr>\n",
       "    <tr>\n",
       "      <th>3</th>\n",
       "      <td>3818</td>\n",
       "      <td>0</td>\n",
       "      <td>20021.800781</td>\n",
       "      <td>0.0</td>\n",
       "      <td>4.0</td>\n",
       "      <td>0.0</td>\n",
       "      <td>4.0</td>\n",
       "      <td>20021.800781</td>\n",
       "      <td>0</td>\n",
       "      <td>31</td>\n",
       "      <td>monthly issuance</td>\n",
       "      <td>20021.800781</td>\n",
       "    </tr>\n",
       "    <tr>\n",
       "      <th>4</th>\n",
       "      <td>1972</td>\n",
       "      <td>0</td>\n",
       "      <td>5717.100098</td>\n",
       "      <td>0.0</td>\n",
       "      <td>3.0</td>\n",
       "      <td>0.0</td>\n",
       "      <td>3.0</td>\n",
       "      <td>5717.100098</td>\n",
       "      <td>0</td>\n",
       "      <td>31</td>\n",
       "      <td>monthly issuance</td>\n",
       "      <td>5717.100098</td>\n",
       "    </tr>\n",
       "  </tbody>\n",
       "</table>\n",
       "</div>"
      ],
      "text/plain": [
       "   account_id  date_block_num      incoming  withdrawal  num_incoming_op  \\\n",
       "0        2378               0  94153.703125     34700.0              6.0   \n",
       "1         576               0   7127.100098         0.0              3.0   \n",
       "2         704               0  21427.099609         0.0              4.0   \n",
       "3        3818               0  20021.800781         0.0              4.0   \n",
       "4        1972               0   5717.100098         0.0              3.0   \n",
       "\n",
       "   num_withdrawal_op  num_total_ops  balance_month  month  days  \\\n",
       "0                1.0            7.0   94153.703125      0    31   \n",
       "1                0.0            3.0    7127.100098      0    31   \n",
       "2                0.0            4.0   21427.099609      0    31   \n",
       "3                0.0            4.0   20021.800781      0    31   \n",
       "4                0.0            3.0    5717.100098      0    31   \n",
       "\n",
       "          frequency  difference_in_out  \n",
       "0  monthly issuance       59453.703125  \n",
       "1  monthly issuance        7127.100098  \n",
       "2  monthly issuance       21427.099609  \n",
       "3  monthly issuance       20021.800781  \n",
       "4  monthly issuance        5717.100098  "
      ]
     },
     "execution_count": 63,
     "metadata": {},
     "output_type": "execute_result"
    }
   ],
   "source": [
    "all_data.head()"
   ]
  },
  {
   "cell_type": "markdown",
   "metadata": {},
   "source": [
    "### Features 3, 4, 5 - Número de transações na conta no determinado mês_sequencial (date_block_num)\n",
    "\n",
    "Quantas operações de adição e retirada foram feitas na conta em cada mês, além do total de operações"
   ]
  },
  {
   "cell_type": "code",
   "execution_count": 42,
   "metadata": {},
   "outputs": [],
   "source": [
    "gb = df_trans.groupby(['date_block_num', 'account_id', 'type'], as_index=False).agg({'amount':{('transactions_month', 'count')}})\n",
    "gb.columns = [col[0] if col[-1]=='' else col[-1] for col in gb.columns.values] "
   ]
  },
  {
   "cell_type": "code",
   "execution_count": 43,
   "metadata": {},
   "outputs": [
    {
     "data": {
      "text/html": [
       "<div>\n",
       "<style scoped>\n",
       "    .dataframe tbody tr th:only-of-type {\n",
       "        vertical-align: middle;\n",
       "    }\n",
       "\n",
       "    .dataframe tbody tr th {\n",
       "        vertical-align: top;\n",
       "    }\n",
       "\n",
       "    .dataframe thead th {\n",
       "        text-align: right;\n",
       "    }\n",
       "</style>\n",
       "<table border=\"1\" class=\"dataframe\">\n",
       "  <thead>\n",
       "    <tr style=\"text-align: right;\">\n",
       "      <th></th>\n",
       "      <th>date_block_num</th>\n",
       "      <th>account_id</th>\n",
       "      <th>type</th>\n",
       "      <th>transactions_month</th>\n",
       "    </tr>\n",
       "  </thead>\n",
       "  <tbody>\n",
       "    <tr>\n",
       "      <th>0</th>\n",
       "      <td>0</td>\n",
       "      <td>9</td>\n",
       "      <td>credit</td>\n",
       "      <td>1</td>\n",
       "    </tr>\n",
       "    <tr>\n",
       "      <th>1</th>\n",
       "      <td>0</td>\n",
       "      <td>163</td>\n",
       "      <td>credit</td>\n",
       "      <td>1</td>\n",
       "    </tr>\n",
       "    <tr>\n",
       "      <th>2</th>\n",
       "      <td>0</td>\n",
       "      <td>192</td>\n",
       "      <td>credit</td>\n",
       "      <td>1</td>\n",
       "    </tr>\n",
       "    <tr>\n",
       "      <th>3</th>\n",
       "      <td>0</td>\n",
       "      <td>212</td>\n",
       "      <td>credit</td>\n",
       "      <td>1</td>\n",
       "    </tr>\n",
       "    <tr>\n",
       "      <th>4</th>\n",
       "      <td>0</td>\n",
       "      <td>280</td>\n",
       "      <td>credit</td>\n",
       "      <td>1</td>\n",
       "    </tr>\n",
       "  </tbody>\n",
       "</table>\n",
       "</div>"
      ],
      "text/plain": [
       "   date_block_num  account_id    type  transactions_month\n",
       "0               0           9  credit                   1\n",
       "1               0         163  credit                   1\n",
       "2               0         192  credit                   1\n",
       "3               0         212  credit                   1\n",
       "4               0         280  credit                   1"
      ]
     },
     "execution_count": 43,
     "metadata": {},
     "output_type": "execute_result"
    }
   ],
   "source": [
    "gb.head()"
   ]
  },
  {
   "cell_type": "code",
   "execution_count": 44,
   "metadata": {},
   "outputs": [],
   "source": [
    "gb_credit = gb[gb['type'] == 'credit'].drop(['type'], axis = 1).rename(columns={\"transactions_month\": \"num_incoming_op\"}).copy()\n",
    "gb_withdrawal = gb[gb['type'] == 'withdrawal'].drop(['type'], axis = 1).rename(columns={\"transactions_month\": \"num_withdrawal_op\"}).copy()"
   ]
  },
  {
   "cell_type": "code",
   "execution_count": 45,
   "metadata": {},
   "outputs": [],
   "source": [
    "all_data = pd.merge(all_data, gb_credit, how='left', on=index_cols).fillna(0)\n",
    "all_data = pd.merge(all_data, gb_withdrawal, how='left', on=index_cols).fillna(0)"
   ]
  },
  {
   "cell_type": "code",
   "execution_count": 46,
   "metadata": {},
   "outputs": [],
   "source": [
    "all_data['num_total_ops'] = all_data['num_incoming_op'] + all_data['num_withdrawal_op']"
   ]
  },
  {
   "cell_type": "code",
   "execution_count": 47,
   "metadata": {},
   "outputs": [
    {
     "data": {
      "text/html": [
       "<div>\n",
       "<style scoped>\n",
       "    .dataframe tbody tr th:only-of-type {\n",
       "        vertical-align: middle;\n",
       "    }\n",
       "\n",
       "    .dataframe tbody tr th {\n",
       "        vertical-align: top;\n",
       "    }\n",
       "\n",
       "    .dataframe thead th {\n",
       "        text-align: right;\n",
       "    }\n",
       "</style>\n",
       "<table border=\"1\" class=\"dataframe\">\n",
       "  <thead>\n",
       "    <tr style=\"text-align: right;\">\n",
       "      <th></th>\n",
       "      <th>account_id</th>\n",
       "      <th>date_block_num</th>\n",
       "      <th>incoming</th>\n",
       "      <th>withdrawal</th>\n",
       "      <th>num_incoming_op</th>\n",
       "      <th>num_withdrawal_op</th>\n",
       "      <th>num_total_ops</th>\n",
       "    </tr>\n",
       "  </thead>\n",
       "  <tbody>\n",
       "    <tr>\n",
       "      <th>0</th>\n",
       "      <td>2378</td>\n",
       "      <td>0</td>\n",
       "      <td>94153.7</td>\n",
       "      <td>34700.0</td>\n",
       "      <td>6.0</td>\n",
       "      <td>1.0</td>\n",
       "      <td>7.0</td>\n",
       "    </tr>\n",
       "    <tr>\n",
       "      <th>1</th>\n",
       "      <td>576</td>\n",
       "      <td>0</td>\n",
       "      <td>7127.1</td>\n",
       "      <td>0.0</td>\n",
       "      <td>3.0</td>\n",
       "      <td>0.0</td>\n",
       "      <td>3.0</td>\n",
       "    </tr>\n",
       "    <tr>\n",
       "      <th>2</th>\n",
       "      <td>704</td>\n",
       "      <td>0</td>\n",
       "      <td>21427.1</td>\n",
       "      <td>0.0</td>\n",
       "      <td>4.0</td>\n",
       "      <td>0.0</td>\n",
       "      <td>4.0</td>\n",
       "    </tr>\n",
       "    <tr>\n",
       "      <th>3</th>\n",
       "      <td>3818</td>\n",
       "      <td>0</td>\n",
       "      <td>20021.8</td>\n",
       "      <td>0.0</td>\n",
       "      <td>4.0</td>\n",
       "      <td>0.0</td>\n",
       "      <td>4.0</td>\n",
       "    </tr>\n",
       "    <tr>\n",
       "      <th>4</th>\n",
       "      <td>1972</td>\n",
       "      <td>0</td>\n",
       "      <td>5717.1</td>\n",
       "      <td>0.0</td>\n",
       "      <td>3.0</td>\n",
       "      <td>0.0</td>\n",
       "      <td>3.0</td>\n",
       "    </tr>\n",
       "  </tbody>\n",
       "</table>\n",
       "</div>"
      ],
      "text/plain": [
       "   account_id  date_block_num  incoming  withdrawal  num_incoming_op  \\\n",
       "0        2378               0   94153.7     34700.0              6.0   \n",
       "1         576               0    7127.1         0.0              3.0   \n",
       "2         704               0   21427.1         0.0              4.0   \n",
       "3        3818               0   20021.8         0.0              4.0   \n",
       "4        1972               0    5717.1         0.0              3.0   \n",
       "\n",
       "   num_withdrawal_op  num_total_ops  \n",
       "0                1.0            7.0  \n",
       "1                0.0            3.0  \n",
       "2                0.0            4.0  \n",
       "3                0.0            4.0  \n",
       "4                0.0            3.0  "
      ]
     },
     "execution_count": 47,
     "metadata": {},
     "output_type": "execute_result"
    }
   ],
   "source": [
    "all_data.head()"
   ]
  },
  {
   "cell_type": "markdown",
   "metadata": {},
   "source": [
    "### Feature 6 -  Balanço da conta ao fim de cada mês\n",
    "\n",
    "Foi assumido que o balanço resultante da última transação foi o balanço do fim do mês"
   ]
  },
  {
   "cell_type": "code",
   "execution_count": 48,
   "metadata": {},
   "outputs": [
    {
     "data": {
      "text/html": [
       "<div>\n",
       "<style scoped>\n",
       "    .dataframe tbody tr th:only-of-type {\n",
       "        vertical-align: middle;\n",
       "    }\n",
       "\n",
       "    .dataframe tbody tr th {\n",
       "        vertical-align: top;\n",
       "    }\n",
       "\n",
       "    .dataframe thead th {\n",
       "        text-align: right;\n",
       "    }\n",
       "</style>\n",
       "<table border=\"1\" class=\"dataframe\">\n",
       "  <thead>\n",
       "    <tr style=\"text-align: right;\">\n",
       "      <th></th>\n",
       "      <th>trans_id</th>\n",
       "      <th>account_id</th>\n",
       "      <th>date</th>\n",
       "      <th>type</th>\n",
       "      <th>operation</th>\n",
       "      <th>amount</th>\n",
       "      <th>balance</th>\n",
       "      <th>k_symbol</th>\n",
       "      <th>bank</th>\n",
       "      <th>account</th>\n",
       "      <th>frequency</th>\n",
       "      <th>month</th>\n",
       "      <th>year</th>\n",
       "      <th>date_block_num</th>\n",
       "    </tr>\n",
       "  </thead>\n",
       "  <tbody>\n",
       "    <tr>\n",
       "      <th>0</th>\n",
       "      <td>695247</td>\n",
       "      <td>2378</td>\n",
       "      <td>1993-01-01</td>\n",
       "      <td>credit</td>\n",
       "      <td>credit in cash</td>\n",
       "      <td>700.0</td>\n",
       "      <td>700.0</td>\n",
       "      <td>NaN</td>\n",
       "      <td>NaN</td>\n",
       "      <td>NaN</td>\n",
       "      <td>monthly issuance</td>\n",
       "      <td>1</td>\n",
       "      <td>1993</td>\n",
       "      <td>0</td>\n",
       "    </tr>\n",
       "    <tr>\n",
       "      <th>1</th>\n",
       "      <td>171812</td>\n",
       "      <td>576</td>\n",
       "      <td>1993-01-01</td>\n",
       "      <td>credit</td>\n",
       "      <td>credit in cash</td>\n",
       "      <td>900.0</td>\n",
       "      <td>900.0</td>\n",
       "      <td>NaN</td>\n",
       "      <td>NaN</td>\n",
       "      <td>NaN</td>\n",
       "      <td>monthly issuance</td>\n",
       "      <td>1</td>\n",
       "      <td>1993</td>\n",
       "      <td>0</td>\n",
       "    </tr>\n",
       "    <tr>\n",
       "      <th>2</th>\n",
       "      <td>207264</td>\n",
       "      <td>704</td>\n",
       "      <td>1993-01-01</td>\n",
       "      <td>credit</td>\n",
       "      <td>credit in cash</td>\n",
       "      <td>1000.0</td>\n",
       "      <td>1000.0</td>\n",
       "      <td>NaN</td>\n",
       "      <td>NaN</td>\n",
       "      <td>NaN</td>\n",
       "      <td>monthly issuance</td>\n",
       "      <td>1</td>\n",
       "      <td>1993</td>\n",
       "      <td>0</td>\n",
       "    </tr>\n",
       "    <tr>\n",
       "      <th>3</th>\n",
       "      <td>1117247</td>\n",
       "      <td>3818</td>\n",
       "      <td>1993-01-01</td>\n",
       "      <td>credit</td>\n",
       "      <td>credit in cash</td>\n",
       "      <td>600.0</td>\n",
       "      <td>600.0</td>\n",
       "      <td>NaN</td>\n",
       "      <td>NaN</td>\n",
       "      <td>NaN</td>\n",
       "      <td>monthly issuance</td>\n",
       "      <td>1</td>\n",
       "      <td>1993</td>\n",
       "      <td>0</td>\n",
       "    </tr>\n",
       "    <tr>\n",
       "      <th>4</th>\n",
       "      <td>579373</td>\n",
       "      <td>1972</td>\n",
       "      <td>1993-01-02</td>\n",
       "      <td>credit</td>\n",
       "      <td>credit in cash</td>\n",
       "      <td>400.0</td>\n",
       "      <td>400.0</td>\n",
       "      <td>NaN</td>\n",
       "      <td>NaN</td>\n",
       "      <td>NaN</td>\n",
       "      <td>monthly issuance</td>\n",
       "      <td>1</td>\n",
       "      <td>1993</td>\n",
       "      <td>0</td>\n",
       "    </tr>\n",
       "  </tbody>\n",
       "</table>\n",
       "</div>"
      ],
      "text/plain": [
       "   trans_id  account_id       date    type       operation  amount  balance  \\\n",
       "0    695247        2378 1993-01-01  credit  credit in cash   700.0    700.0   \n",
       "1    171812         576 1993-01-01  credit  credit in cash   900.0    900.0   \n",
       "2    207264         704 1993-01-01  credit  credit in cash  1000.0   1000.0   \n",
       "3   1117247        3818 1993-01-01  credit  credit in cash   600.0    600.0   \n",
       "4    579373        1972 1993-01-02  credit  credit in cash   400.0    400.0   \n",
       "\n",
       "  k_symbol bank  account         frequency  month  year  date_block_num  \n",
       "0      NaN  NaN      NaN  monthly issuance      1  1993               0  \n",
       "1      NaN  NaN      NaN  monthly issuance      1  1993               0  \n",
       "2      NaN  NaN      NaN  monthly issuance      1  1993               0  \n",
       "3      NaN  NaN      NaN  monthly issuance      1  1993               0  \n",
       "4      NaN  NaN      NaN  monthly issuance      1  1993               0  "
      ]
     },
     "execution_count": 48,
     "metadata": {},
     "output_type": "execute_result"
    }
   ],
   "source": [
    "df_trans.head()"
   ]
  },
  {
   "cell_type": "code",
   "execution_count": 88,
   "metadata": {},
   "outputs": [],
   "source": [
    "gb = df_trans.groupby(['date_block_num', 'account_id'], as_index=False).agg({'balance':{('balance_month', 'last')}})\n",
    "gb.columns = [col[0] if col[-1]=='' else col[-1] for col in gb.columns.values]"
   ]
  },
  {
   "cell_type": "code",
   "execution_count": 89,
   "metadata": {},
   "outputs": [],
   "source": [
    "all_data = pd.merge(all_data, gb, how='left', on=index_cols).fillna(-999)"
   ]
  },
  {
   "cell_type": "code",
   "execution_count": 90,
   "metadata": {},
   "outputs": [
    {
     "data": {
      "text/html": [
       "<div>\n",
       "<style scoped>\n",
       "    .dataframe tbody tr th:only-of-type {\n",
       "        vertical-align: middle;\n",
       "    }\n",
       "\n",
       "    .dataframe tbody tr th {\n",
       "        vertical-align: top;\n",
       "    }\n",
       "\n",
       "    .dataframe thead th {\n",
       "        text-align: right;\n",
       "    }\n",
       "</style>\n",
       "<table border=\"1\" class=\"dataframe\">\n",
       "  <thead>\n",
       "    <tr style=\"text-align: right;\">\n",
       "      <th></th>\n",
       "      <th>account_id</th>\n",
       "      <th>date_block_num</th>\n",
       "      <th>month</th>\n",
       "      <th>days</th>\n",
       "      <th>frequency</th>\n",
       "      <th>frequency_encoded</th>\n",
       "      <th>incoming_lag_1</th>\n",
       "      <th>withdrawal_lag_1</th>\n",
       "      <th>num_incoming_op_lag_1</th>\n",
       "      <th>num_withdrawal_op_lag_1</th>\n",
       "      <th>...</th>\n",
       "      <th>account_id_target_enc_lag_6</th>\n",
       "      <th>incoming_lag_12</th>\n",
       "      <th>withdrawal_lag_12</th>\n",
       "      <th>num_incoming_op_lag_12</th>\n",
       "      <th>num_withdrawal_op_lag_12</th>\n",
       "      <th>num_total_ops_lag_12</th>\n",
       "      <th>balance_month_lag_12</th>\n",
       "      <th>difference_in_out_lag_12</th>\n",
       "      <th>account_id_target_enc_lag_12</th>\n",
       "      <th>balance_month</th>\n",
       "    </tr>\n",
       "  </thead>\n",
       "  <tbody>\n",
       "  </tbody>\n",
       "</table>\n",
       "<p>0 rows × 47 columns</p>\n",
       "</div>"
      ],
      "text/plain": [
       "Empty DataFrame\n",
       "Columns: [account_id, date_block_num, month, days, frequency, frequency_encoded, incoming_lag_1, withdrawal_lag_1, num_incoming_op_lag_1, num_withdrawal_op_lag_1, num_total_ops_lag_1, balance_month_lag_1, difference_in_out_lag_1, account_id_target_enc_lag_1, incoming_lag_2, withdrawal_lag_2, num_incoming_op_lag_2, num_withdrawal_op_lag_2, num_total_ops_lag_2, balance_month_lag_2, difference_in_out_lag_2, account_id_target_enc_lag_2, incoming_lag_3, withdrawal_lag_3, num_incoming_op_lag_3, num_withdrawal_op_lag_3, num_total_ops_lag_3, balance_month_lag_3, difference_in_out_lag_3, account_id_target_enc_lag_3, incoming_lag_6, withdrawal_lag_6, num_incoming_op_lag_6, num_withdrawal_op_lag_6, num_total_ops_lag_6, balance_month_lag_6, difference_in_out_lag_6, account_id_target_enc_lag_6, incoming_lag_12, withdrawal_lag_12, num_incoming_op_lag_12, num_withdrawal_op_lag_12, num_total_ops_lag_12, balance_month_lag_12, difference_in_out_lag_12, account_id_target_enc_lag_12, balance_month]\n",
       "Index: []\n",
       "\n",
       "[0 rows x 47 columns]"
      ]
     },
     "execution_count": 90,
     "metadata": {},
     "output_type": "execute_result"
    }
   ],
   "source": [
    "#Nenhum valor nulo na balança mensal\n",
    "all_data[all_data['balance_month'] == -999]"
   ]
  },
  {
   "cell_type": "markdown",
   "metadata": {},
   "source": [
    "### Feature 7 e 8 - Mês (0-11) e  número de dias no mês da transação\n"
   ]
  },
  {
   "cell_type": "code",
   "execution_count": 52,
   "metadata": {},
   "outputs": [],
   "source": [
    "all_data['month'] = all_data['date_block_num'] % 12"
   ]
  },
  {
   "cell_type": "code",
   "execution_count": 53,
   "metadata": {},
   "outputs": [],
   "source": [
    "days = pd.Series([31,28,31,30,31,30,31,31,30,31,30,31])\n",
    "all_data['days'] = all_data['month'].map(days).astype(np.int8)"
   ]
  },
  {
   "cell_type": "markdown",
   "metadata": {},
   "source": [
    "**'Down casting'**\n",
    "\n",
    "Reduzir o espaço ocupado na memória por algumas colunas. Embora o dataset seja pequeno, a prática também acelera o treinamento dos modelos de predição"
   ]
  },
  {
   "cell_type": "code",
   "execution_count": 54,
   "metadata": {},
   "outputs": [],
   "source": [
    "all_data['month'] = all_data['month'].astype(np.int8)\n",
    "all_data['date_block_num'] = all_data['date_block_num'].astype(np.int8)"
   ]
  },
  {
   "cell_type": "code",
   "execution_count": 55,
   "metadata": {},
   "outputs": [
    {
     "name": "stdout",
     "output_type": "stream",
     "text": [
      "<class 'pandas.core.frame.DataFrame'>\n",
      "Int64Index: 185057 entries, 0 to 185056\n",
      "Data columns (total 10 columns):\n",
      "account_id           185057 non-null int32\n",
      "date_block_num       185057 non-null int8\n",
      "incoming             185057 non-null float64\n",
      "withdrawal           185057 non-null float64\n",
      "num_incoming_op      185057 non-null float64\n",
      "num_withdrawal_op    185057 non-null float64\n",
      "num_total_ops        185057 non-null float64\n",
      "balance_month        185057 non-null float64\n",
      "month                185057 non-null int8\n",
      "days                 185057 non-null int8\n",
      "dtypes: float64(6), int32(1), int8(3)\n",
      "memory usage: 11.1 MB\n"
     ]
    }
   ],
   "source": [
    "all_data.info()"
   ]
  },
  {
   "cell_type": "code",
   "execution_count": 56,
   "metadata": {},
   "outputs": [],
   "source": [
    "def downcast_dtypes(df):\n",
    "    '''\n",
    "        Muda o tipo de valores em algumas colunas (Economia de memória): \n",
    "                \n",
    "            Tipo `float64` para `float32`        \n",
    "    '''\n",
    "    \n",
    "    # Select columns to downcast\n",
    "    float_cols = [c for c in df if df[c].dtype == \"float64\"]\n",
    "    \n",
    "    # Downcast\n",
    "    df[float_cols] = df[float_cols].astype(np.float32)\n",
    "    \n",
    "    return df"
   ]
  },
  {
   "cell_type": "code",
   "execution_count": 57,
   "metadata": {},
   "outputs": [],
   "source": [
    "all_data = downcast_dtypes(all_data)"
   ]
  },
  {
   "cell_type": "code",
   "execution_count": 58,
   "metadata": {},
   "outputs": [
    {
     "name": "stdout",
     "output_type": "stream",
     "text": [
      "<class 'pandas.core.frame.DataFrame'>\n",
      "Int64Index: 185057 entries, 0 to 185056\n",
      "Data columns (total 10 columns):\n",
      "account_id           185057 non-null int32\n",
      "date_block_num       185057 non-null int8\n",
      "incoming             185057 non-null float32\n",
      "withdrawal           185057 non-null float32\n",
      "num_incoming_op      185057 non-null float32\n",
      "num_withdrawal_op    185057 non-null float32\n",
      "num_total_ops        185057 non-null float32\n",
      "balance_month        185057 non-null float32\n",
      "month                185057 non-null int8\n",
      "days                 185057 non-null int8\n",
      "dtypes: float32(6), int32(1), int8(3)\n",
      "memory usage: 6.9 MB\n"
     ]
    }
   ],
   "source": [
    "all_data.info()"
   ]
  },
  {
   "cell_type": "markdown",
   "metadata": {},
   "source": [
    "**Merge DataFrame de transações com DataFrame de contas**\n",
    "\n",
    "A coluna de frequência com o que o dono da conta faz planejamento financeiro, será adicionada"
   ]
  },
  {
   "cell_type": "code",
   "execution_count": 60,
   "metadata": {},
   "outputs": [],
   "source": [
    "account_mapping = df_account[['account_id','frequency']].drop_duplicates()\n",
    "\n",
    "all_data = pd.merge(all_data, account_mapping, how='left', on='account_id')"
   ]
  },
  {
   "cell_type": "markdown",
   "metadata": {},
   "source": [
    "### Mean Encoding Features\n",
    "\n",
    "Features geradas com base na relação -> Features categóricas (account_id) e a feature que queremos prever os valores (Balance_month)"
   ]
  },
  {
   "cell_type": "code",
   "execution_count": 65,
   "metadata": {},
   "outputs": [
    {
     "data": {
      "text/plain": [
       "34667.2578125"
      ]
     },
     "execution_count": 65,
     "metadata": {},
     "output_type": "execute_result"
    }
   ],
   "source": [
    "all_data['balance_month'].mean()"
   ]
  },
  {
   "cell_type": "code",
   "execution_count": 66,
   "metadata": {},
   "outputs": [
    {
     "name": "stdout",
     "output_type": "stream",
     "text": [
      "0.5844371667623957\n"
     ]
    }
   ],
   "source": [
    "kf = KFold(n_splits=5, shuffle = False)\n",
    "\n",
    "nan_value = float(\"NaN\")\n",
    "all_data['account_id_target_enc'] = nan_value\n",
    "\n",
    "for train_index, val_index in kf.split(all_data):\n",
    "    X_tr, X_val = all_data.iloc[train_index].copy(), all_data.iloc[val_index].copy()\n",
    "    \n",
    "    means = X_val['account_id'].map(X_tr.groupby('account_id').balance_month.mean())\n",
    "    #means2 = X_tr['item_id'].map(X_tr.groupby('item_id').target.mean())\n",
    "    \n",
    "    X_val['account_id_target_enc'] = means\n",
    "    #X_tr['item_target_enc'] = means2\n",
    "    \n",
    "    all_data.iloc[val_index] = X_val.copy()\n",
    "    #all_data.iloc[train_index] = X_tr.copy()\n",
    "    \n",
    "prior = 34667.2578125\n",
    "all_data.fillna(prior, inplace = True)\n",
    "\n",
    "encoded_feature = all_data['account_id_target_enc'].values\n",
    "corr = np.corrcoef(all_data['balance_month'].values, encoded_feature)[0][1]\n",
    "print(corr)"
   ]
  },
  {
   "cell_type": "markdown",
   "metadata": {},
   "source": [
    "### LabelEncoder para variáveis categóricas\n",
    "\n",
    "Nesse caso, apenas frequency utilizará"
   ]
  },
  {
   "cell_type": "code",
   "execution_count": 70,
   "metadata": {},
   "outputs": [],
   "source": [
    "all_data['frequency_encoded'] = LabelEncoder().fit_transform(all_data['frequency'])"
   ]
  },
  {
   "cell_type": "code",
   "execution_count": 101,
   "metadata": {},
   "outputs": [],
   "source": [
    "all_data.drop(['frequency'], axis = 1, inplace = True)"
   ]
  },
  {
   "cell_type": "markdown",
   "metadata": {},
   "source": [
    "### Lag Features\n",
    "\n",
    "Lag features indicam como os valores correspondentes de cada coluna estavam a meses atrás, nesse caso, foram escolhidos valores de 1, 2, 3, 5, 6 e 12 meses atrás."
   ]
  },
  {
   "cell_type": "code",
   "execution_count": 73,
   "metadata": {},
   "outputs": [
    {
     "data": {
      "text/html": [
       "<div>\n",
       "<style scoped>\n",
       "    .dataframe tbody tr th:only-of-type {\n",
       "        vertical-align: middle;\n",
       "    }\n",
       "\n",
       "    .dataframe tbody tr th {\n",
       "        vertical-align: top;\n",
       "    }\n",
       "\n",
       "    .dataframe thead th {\n",
       "        text-align: right;\n",
       "    }\n",
       "</style>\n",
       "<table border=\"1\" class=\"dataframe\">\n",
       "  <thead>\n",
       "    <tr style=\"text-align: right;\">\n",
       "      <th></th>\n",
       "      <th>account_id</th>\n",
       "      <th>date_block_num</th>\n",
       "      <th>incoming</th>\n",
       "      <th>withdrawal</th>\n",
       "      <th>num_incoming_op</th>\n",
       "      <th>num_withdrawal_op</th>\n",
       "      <th>num_total_ops</th>\n",
       "      <th>balance_month</th>\n",
       "      <th>month</th>\n",
       "      <th>days</th>\n",
       "      <th>frequency</th>\n",
       "      <th>difference_in_out</th>\n",
       "      <th>account_id_target_enc</th>\n",
       "      <th>frequency_encoded</th>\n",
       "    </tr>\n",
       "  </thead>\n",
       "  <tbody>\n",
       "    <tr>\n",
       "      <th>0</th>\n",
       "      <td>2378</td>\n",
       "      <td>0</td>\n",
       "      <td>94153.703125</td>\n",
       "      <td>34700.0</td>\n",
       "      <td>6.0</td>\n",
       "      <td>1.0</td>\n",
       "      <td>7.0</td>\n",
       "      <td>94153.703125</td>\n",
       "      <td>0</td>\n",
       "      <td>31</td>\n",
       "      <td>monthly issuance</td>\n",
       "      <td>59453.703125</td>\n",
       "      <td>54595.062500</td>\n",
       "      <td>1</td>\n",
       "    </tr>\n",
       "    <tr>\n",
       "      <th>1</th>\n",
       "      <td>576</td>\n",
       "      <td>0</td>\n",
       "      <td>7127.100098</td>\n",
       "      <td>0.0</td>\n",
       "      <td>3.0</td>\n",
       "      <td>0.0</td>\n",
       "      <td>3.0</td>\n",
       "      <td>7127.100098</td>\n",
       "      <td>0</td>\n",
       "      <td>31</td>\n",
       "      <td>monthly issuance</td>\n",
       "      <td>7127.100098</td>\n",
       "      <td>32837.066406</td>\n",
       "      <td>1</td>\n",
       "    </tr>\n",
       "    <tr>\n",
       "      <th>2</th>\n",
       "      <td>704</td>\n",
       "      <td>0</td>\n",
       "      <td>21427.099609</td>\n",
       "      <td>0.0</td>\n",
       "      <td>4.0</td>\n",
       "      <td>0.0</td>\n",
       "      <td>4.0</td>\n",
       "      <td>21427.099609</td>\n",
       "      <td>0</td>\n",
       "      <td>31</td>\n",
       "      <td>monthly issuance</td>\n",
       "      <td>21427.099609</td>\n",
       "      <td>35472.250000</td>\n",
       "      <td>1</td>\n",
       "    </tr>\n",
       "    <tr>\n",
       "      <th>3</th>\n",
       "      <td>3818</td>\n",
       "      <td>0</td>\n",
       "      <td>20021.800781</td>\n",
       "      <td>0.0</td>\n",
       "      <td>4.0</td>\n",
       "      <td>0.0</td>\n",
       "      <td>4.0</td>\n",
       "      <td>20021.800781</td>\n",
       "      <td>0</td>\n",
       "      <td>31</td>\n",
       "      <td>monthly issuance</td>\n",
       "      <td>20021.800781</td>\n",
       "      <td>45695.199219</td>\n",
       "      <td>1</td>\n",
       "    </tr>\n",
       "    <tr>\n",
       "      <th>4</th>\n",
       "      <td>1972</td>\n",
       "      <td>0</td>\n",
       "      <td>5717.100098</td>\n",
       "      <td>0.0</td>\n",
       "      <td>3.0</td>\n",
       "      <td>0.0</td>\n",
       "      <td>3.0</td>\n",
       "      <td>5717.100098</td>\n",
       "      <td>0</td>\n",
       "      <td>31</td>\n",
       "      <td>monthly issuance</td>\n",
       "      <td>5717.100098</td>\n",
       "      <td>21455.658203</td>\n",
       "      <td>1</td>\n",
       "    </tr>\n",
       "  </tbody>\n",
       "</table>\n",
       "</div>"
      ],
      "text/plain": [
       "   account_id  date_block_num      incoming  withdrawal  num_incoming_op  \\\n",
       "0        2378               0  94153.703125     34700.0              6.0   \n",
       "1         576               0   7127.100098         0.0              3.0   \n",
       "2         704               0  21427.099609         0.0              4.0   \n",
       "3        3818               0  20021.800781         0.0              4.0   \n",
       "4        1972               0   5717.100098         0.0              3.0   \n",
       "\n",
       "   num_withdrawal_op  num_total_ops  balance_month  month  days  \\\n",
       "0                1.0            7.0   94153.703125      0    31   \n",
       "1                0.0            3.0    7127.100098      0    31   \n",
       "2                0.0            4.0   21427.099609      0    31   \n",
       "3                0.0            4.0   20021.800781      0    31   \n",
       "4                0.0            3.0    5717.100098      0    31   \n",
       "\n",
       "          frequency  difference_in_out  account_id_target_enc  \\\n",
       "0  monthly issuance       59453.703125           54595.062500   \n",
       "1  monthly issuance        7127.100098           32837.066406   \n",
       "2  monthly issuance       21427.099609           35472.250000   \n",
       "3  monthly issuance       20021.800781           45695.199219   \n",
       "4  monthly issuance        5717.100098           21455.658203   \n",
       "\n",
       "   frequency_encoded  \n",
       "0                  1  \n",
       "1                  1  \n",
       "2                  1  \n",
       "3                  1  \n",
       "4                  1  "
      ]
     },
     "execution_count": 73,
     "metadata": {},
     "output_type": "execute_result"
    }
   ],
   "source": [
    "all_data.head()"
   ]
  },
  {
   "cell_type": "code",
   "execution_count": 72,
   "metadata": {},
   "outputs": [
    {
     "data": {
      "text/html": [
       "<div>\n",
       "<style scoped>\n",
       "    .dataframe tbody tr th:only-of-type {\n",
       "        vertical-align: middle;\n",
       "    }\n",
       "\n",
       "    .dataframe tbody tr th {\n",
       "        vertical-align: top;\n",
       "    }\n",
       "\n",
       "    .dataframe thead th {\n",
       "        text-align: right;\n",
       "    }\n",
       "</style>\n",
       "<table border=\"1\" class=\"dataframe\">\n",
       "  <thead>\n",
       "    <tr style=\"text-align: right;\">\n",
       "      <th></th>\n",
       "      <th>trans_id</th>\n",
       "      <th>account_id</th>\n",
       "      <th>date</th>\n",
       "      <th>type</th>\n",
       "      <th>operation</th>\n",
       "      <th>amount</th>\n",
       "      <th>balance</th>\n",
       "      <th>k_symbol</th>\n",
       "      <th>bank</th>\n",
       "      <th>account</th>\n",
       "      <th>frequency</th>\n",
       "      <th>month</th>\n",
       "      <th>year</th>\n",
       "      <th>date_block_num</th>\n",
       "    </tr>\n",
       "  </thead>\n",
       "  <tbody>\n",
       "    <tr>\n",
       "      <th>0</th>\n",
       "      <td>695247</td>\n",
       "      <td>2378</td>\n",
       "      <td>1993-01-01</td>\n",
       "      <td>credit</td>\n",
       "      <td>credit in cash</td>\n",
       "      <td>700.0</td>\n",
       "      <td>700.0</td>\n",
       "      <td>NaN</td>\n",
       "      <td>NaN</td>\n",
       "      <td>NaN</td>\n",
       "      <td>monthly issuance</td>\n",
       "      <td>1</td>\n",
       "      <td>1993</td>\n",
       "      <td>0</td>\n",
       "    </tr>\n",
       "    <tr>\n",
       "      <th>1</th>\n",
       "      <td>171812</td>\n",
       "      <td>576</td>\n",
       "      <td>1993-01-01</td>\n",
       "      <td>credit</td>\n",
       "      <td>credit in cash</td>\n",
       "      <td>900.0</td>\n",
       "      <td>900.0</td>\n",
       "      <td>NaN</td>\n",
       "      <td>NaN</td>\n",
       "      <td>NaN</td>\n",
       "      <td>monthly issuance</td>\n",
       "      <td>1</td>\n",
       "      <td>1993</td>\n",
       "      <td>0</td>\n",
       "    </tr>\n",
       "    <tr>\n",
       "      <th>2</th>\n",
       "      <td>207264</td>\n",
       "      <td>704</td>\n",
       "      <td>1993-01-01</td>\n",
       "      <td>credit</td>\n",
       "      <td>credit in cash</td>\n",
       "      <td>1000.0</td>\n",
       "      <td>1000.0</td>\n",
       "      <td>NaN</td>\n",
       "      <td>NaN</td>\n",
       "      <td>NaN</td>\n",
       "      <td>monthly issuance</td>\n",
       "      <td>1</td>\n",
       "      <td>1993</td>\n",
       "      <td>0</td>\n",
       "    </tr>\n",
       "    <tr>\n",
       "      <th>3</th>\n",
       "      <td>1117247</td>\n",
       "      <td>3818</td>\n",
       "      <td>1993-01-01</td>\n",
       "      <td>credit</td>\n",
       "      <td>credit in cash</td>\n",
       "      <td>600.0</td>\n",
       "      <td>600.0</td>\n",
       "      <td>NaN</td>\n",
       "      <td>NaN</td>\n",
       "      <td>NaN</td>\n",
       "      <td>monthly issuance</td>\n",
       "      <td>1</td>\n",
       "      <td>1993</td>\n",
       "      <td>0</td>\n",
       "    </tr>\n",
       "    <tr>\n",
       "      <th>4</th>\n",
       "      <td>579373</td>\n",
       "      <td>1972</td>\n",
       "      <td>1993-01-02</td>\n",
       "      <td>credit</td>\n",
       "      <td>credit in cash</td>\n",
       "      <td>400.0</td>\n",
       "      <td>400.0</td>\n",
       "      <td>NaN</td>\n",
       "      <td>NaN</td>\n",
       "      <td>NaN</td>\n",
       "      <td>monthly issuance</td>\n",
       "      <td>1</td>\n",
       "      <td>1993</td>\n",
       "      <td>0</td>\n",
       "    </tr>\n",
       "  </tbody>\n",
       "</table>\n",
       "</div>"
      ],
      "text/plain": [
       "   trans_id  account_id       date    type       operation  amount  balance  \\\n",
       "0    695247        2378 1993-01-01  credit  credit in cash   700.0    700.0   \n",
       "1    171812         576 1993-01-01  credit  credit in cash   900.0    900.0   \n",
       "2    207264         704 1993-01-01  credit  credit in cash  1000.0   1000.0   \n",
       "3   1117247        3818 1993-01-01  credit  credit in cash   600.0    600.0   \n",
       "4    579373        1972 1993-01-02  credit  credit in cash   400.0    400.0   \n",
       "\n",
       "  k_symbol bank  account         frequency  month  year  date_block_num  \n",
       "0      NaN  NaN      NaN  monthly issuance      1  1993               0  \n",
       "1      NaN  NaN      NaN  monthly issuance      1  1993               0  \n",
       "2      NaN  NaN      NaN  monthly issuance      1  1993               0  \n",
       "3      NaN  NaN      NaN  monthly issuance      1  1993               0  \n",
       "4      NaN  NaN      NaN  monthly issuance      1  1993               0  "
      ]
     },
     "execution_count": 72,
     "metadata": {},
     "output_type": "execute_result"
    }
   ],
   "source": [
    "df_trans.head()"
   ]
  },
  {
   "cell_type": "code",
   "execution_count": 74,
   "metadata": {},
   "outputs": [
    {
     "data": {
      "text/plain": [
       "['account_id', 'date_block_num']"
      ]
     },
     "execution_count": 74,
     "metadata": {},
     "output_type": "execute_result"
    }
   ],
   "source": [
    "index_cols"
   ]
  },
  {
   "cell_type": "code",
   "execution_count": 76,
   "metadata": {},
   "outputs": [],
   "source": [
    "cols_to_lag = ['incoming', 'withdrawal', 'num_incoming_op', \n",
    "               'num_withdrawal_op', 'num_total_ops', 'balance_month', \n",
    "              'difference_in_out', 'account_id_target_enc']"
   ]
  },
  {
   "cell_type": "code",
   "execution_count": 77,
   "metadata": {},
   "outputs": [
    {
     "name": "stderr",
     "output_type": "stream",
     "text": [
      "100%|██████████| 5/5 [00:01<00:00,  3.45it/s]\n"
     ]
    }
   ],
   "source": [
    "shift_range = [1, 2, 3, 6, 12]\n",
    "\n",
    "for month_shift in tqdm(shift_range):\n",
    "    train_shift = all_data[index_cols + cols_to_lag].copy()\n",
    "    \n",
    "    train_shift['date_block_num'] = train_shift['date_block_num'] + month_shift\n",
    "    \n",
    "    foo = lambda x: '{}_lag_{}'.format(x, month_shift) if x in cols_to_lag else x\n",
    "    train_shift = train_shift.rename(columns=foo)\n",
    "\n",
    "    all_data = pd.merge(all_data, train_shift, on=index_cols, how='left').fillna(0)\n",
    "\n",
    "del train_shift"
   ]
  },
  {
   "cell_type": "code",
   "execution_count": 78,
   "metadata": {},
   "outputs": [
    {
     "name": "stdout",
     "output_type": "stream",
     "text": [
      "<class 'pandas.core.frame.DataFrame'>\n",
      "Int64Index: 185057 entries, 0 to 185056\n",
      "Data columns (total 54 columns):\n",
      "account_id                      185057 non-null int32\n",
      "date_block_num                  185057 non-null int8\n",
      "incoming                        185057 non-null float32\n",
      "withdrawal                      185057 non-null float32\n",
      "num_incoming_op                 185057 non-null float32\n",
      "num_withdrawal_op               185057 non-null float32\n",
      "num_total_ops                   185057 non-null float32\n",
      "balance_month                   185057 non-null float32\n",
      "month                           185057 non-null int8\n",
      "days                            185057 non-null int8\n",
      "frequency                       185057 non-null object\n",
      "difference_in_out               185057 non-null float32\n",
      "account_id_target_enc           185057 non-null float64\n",
      "frequency_encoded               185057 non-null int64\n",
      "incoming_lag_1                  185057 non-null float32\n",
      "withdrawal_lag_1                185057 non-null float32\n",
      "num_incoming_op_lag_1           185057 non-null float32\n",
      "num_withdrawal_op_lag_1         185057 non-null float32\n",
      "num_total_ops_lag_1             185057 non-null float32\n",
      "balance_month_lag_1             185057 non-null float32\n",
      "difference_in_out_lag_1         185057 non-null float32\n",
      "account_id_target_enc_lag_1     185057 non-null float64\n",
      "incoming_lag_2                  185057 non-null float32\n",
      "withdrawal_lag_2                185057 non-null float32\n",
      "num_incoming_op_lag_2           185057 non-null float32\n",
      "num_withdrawal_op_lag_2         185057 non-null float32\n",
      "num_total_ops_lag_2             185057 non-null float32\n",
      "balance_month_lag_2             185057 non-null float32\n",
      "difference_in_out_lag_2         185057 non-null float32\n",
      "account_id_target_enc_lag_2     185057 non-null float64\n",
      "incoming_lag_3                  185057 non-null float32\n",
      "withdrawal_lag_3                185057 non-null float32\n",
      "num_incoming_op_lag_3           185057 non-null float32\n",
      "num_withdrawal_op_lag_3         185057 non-null float32\n",
      "num_total_ops_lag_3             185057 non-null float32\n",
      "balance_month_lag_3             185057 non-null float32\n",
      "difference_in_out_lag_3         185057 non-null float32\n",
      "account_id_target_enc_lag_3     185057 non-null float64\n",
      "incoming_lag_6                  185057 non-null float32\n",
      "withdrawal_lag_6                185057 non-null float32\n",
      "num_incoming_op_lag_6           185057 non-null float32\n",
      "num_withdrawal_op_lag_6         185057 non-null float32\n",
      "num_total_ops_lag_6             185057 non-null float32\n",
      "balance_month_lag_6             185057 non-null float32\n",
      "difference_in_out_lag_6         185057 non-null float32\n",
      "account_id_target_enc_lag_6     185057 non-null float64\n",
      "incoming_lag_12                 185057 non-null float32\n",
      "withdrawal_lag_12               185057 non-null float32\n",
      "num_incoming_op_lag_12          185057 non-null float32\n",
      "num_withdrawal_op_lag_12        185057 non-null float32\n",
      "num_total_ops_lag_12            185057 non-null float32\n",
      "balance_month_lag_12            185057 non-null float32\n",
      "difference_in_out_lag_12        185057 non-null float32\n",
      "account_id_target_enc_lag_12    185057 non-null float64\n",
      "dtypes: float32(42), float64(6), int32(1), int64(1), int8(3), object(1)\n",
      "memory usage: 43.6+ MB\n"
     ]
    }
   ],
   "source": [
    "all_data.info()"
   ]
  },
  {
   "cell_type": "code",
   "execution_count": 79,
   "metadata": {},
   "outputs": [],
   "source": [
    "# Selecionar apenas dados posteriores aos 12 primeiros mseses, já que não há valor para as lag features dos mesmos\n",
    "all_data = all_data[all_data['date_block_num'] >= 12]"
   ]
  },
  {
   "cell_type": "code",
   "execution_count": 92,
   "metadata": {},
   "outputs": [],
   "source": [
    "cols_to_drop = ['incoming', 'withdrawal', 'num_incoming_op', \n",
    "               'num_withdrawal_op', 'num_total_ops','difference_in_out', \n",
    "                'account_id_target_enc']"
   ]
  },
  {
   "cell_type": "code",
   "execution_count": 80,
   "metadata": {},
   "outputs": [],
   "source": [
    "all_data.drop(cols_to_drop, axis = 1, inplace = True)"
   ]
  },
  {
   "cell_type": "code",
   "execution_count": 93,
   "metadata": {},
   "outputs": [
    {
     "data": {
      "text/html": [
       "<div>\n",
       "<style scoped>\n",
       "    .dataframe tbody tr th:only-of-type {\n",
       "        vertical-align: middle;\n",
       "    }\n",
       "\n",
       "    .dataframe tbody tr th {\n",
       "        vertical-align: top;\n",
       "    }\n",
       "\n",
       "    .dataframe thead th {\n",
       "        text-align: right;\n",
       "    }\n",
       "</style>\n",
       "<table border=\"1\" class=\"dataframe\">\n",
       "  <thead>\n",
       "    <tr style=\"text-align: right;\">\n",
       "      <th></th>\n",
       "      <th>account_id</th>\n",
       "      <th>date_block_num</th>\n",
       "      <th>month</th>\n",
       "      <th>days</th>\n",
       "      <th>frequency</th>\n",
       "      <th>frequency_encoded</th>\n",
       "      <th>incoming_lag_1</th>\n",
       "      <th>withdrawal_lag_1</th>\n",
       "      <th>num_incoming_op_lag_1</th>\n",
       "      <th>num_withdrawal_op_lag_1</th>\n",
       "      <th>...</th>\n",
       "      <th>account_id_target_enc_lag_6</th>\n",
       "      <th>incoming_lag_12</th>\n",
       "      <th>withdrawal_lag_12</th>\n",
       "      <th>num_incoming_op_lag_12</th>\n",
       "      <th>num_withdrawal_op_lag_12</th>\n",
       "      <th>num_total_ops_lag_12</th>\n",
       "      <th>balance_month_lag_12</th>\n",
       "      <th>difference_in_out_lag_12</th>\n",
       "      <th>account_id_target_enc_lag_12</th>\n",
       "      <th>balance_month</th>\n",
       "    </tr>\n",
       "  </thead>\n",
       "  <tbody>\n",
       "    <tr>\n",
       "      <th>0</th>\n",
       "      <td>7769</td>\n",
       "      <td>12</td>\n",
       "      <td>0</td>\n",
       "      <td>31</td>\n",
       "      <td>monthly issuance</td>\n",
       "      <td>1</td>\n",
       "      <td>6364.600098</td>\n",
       "      <td>45414.601562</td>\n",
       "      <td>2.0</td>\n",
       "      <td>5.0</td>\n",
       "      <td>...</td>\n",
       "      <td>0.000000</td>\n",
       "      <td>0.0</td>\n",
       "      <td>0.0</td>\n",
       "      <td>0.0</td>\n",
       "      <td>0.0</td>\n",
       "      <td>0.0</td>\n",
       "      <td>0.0</td>\n",
       "      <td>0.0</td>\n",
       "      <td>0.0</td>\n",
       "      <td>51357.8</td>\n",
       "    </tr>\n",
       "    <tr>\n",
       "      <th>1</th>\n",
       "      <td>8934</td>\n",
       "      <td>12</td>\n",
       "      <td>0</td>\n",
       "      <td>31</td>\n",
       "      <td>monthly issuance</td>\n",
       "      <td>1</td>\n",
       "      <td>22800.599609</td>\n",
       "      <td>17214.599609</td>\n",
       "      <td>3.0</td>\n",
       "      <td>3.0</td>\n",
       "      <td>...</td>\n",
       "      <td>22130.880859</td>\n",
       "      <td>0.0</td>\n",
       "      <td>0.0</td>\n",
       "      <td>0.0</td>\n",
       "      <td>0.0</td>\n",
       "      <td>0.0</td>\n",
       "      <td>0.0</td>\n",
       "      <td>0.0</td>\n",
       "      <td>0.0</td>\n",
       "      <td>-1994.1</td>\n",
       "    </tr>\n",
       "    <tr>\n",
       "      <th>2</th>\n",
       "      <td>3133</td>\n",
       "      <td>12</td>\n",
       "      <td>0</td>\n",
       "      <td>31</td>\n",
       "      <td>monthly issuance</td>\n",
       "      <td>1</td>\n",
       "      <td>29616.500000</td>\n",
       "      <td>21132.599609</td>\n",
       "      <td>2.0</td>\n",
       "      <td>5.0</td>\n",
       "      <td>...</td>\n",
       "      <td>25843.658203</td>\n",
       "      <td>0.0</td>\n",
       "      <td>0.0</td>\n",
       "      <td>0.0</td>\n",
       "      <td>0.0</td>\n",
       "      <td>0.0</td>\n",
       "      <td>0.0</td>\n",
       "      <td>0.0</td>\n",
       "      <td>0.0</td>\n",
       "      <td>37809.6</td>\n",
       "    </tr>\n",
       "    <tr>\n",
       "      <th>3</th>\n",
       "      <td>6034</td>\n",
       "      <td>12</td>\n",
       "      <td>0</td>\n",
       "      <td>31</td>\n",
       "      <td>weekly issuance</td>\n",
       "      <td>2</td>\n",
       "      <td>44261.500000</td>\n",
       "      <td>52725.800781</td>\n",
       "      <td>2.0</td>\n",
       "      <td>4.0</td>\n",
       "      <td>...</td>\n",
       "      <td>24881.269531</td>\n",
       "      <td>0.0</td>\n",
       "      <td>0.0</td>\n",
       "      <td>0.0</td>\n",
       "      <td>0.0</td>\n",
       "      <td>0.0</td>\n",
       "      <td>0.0</td>\n",
       "      <td>0.0</td>\n",
       "      <td>0.0</td>\n",
       "      <td>11395.1</td>\n",
       "    </tr>\n",
       "    <tr>\n",
       "      <th>4</th>\n",
       "      <td>86</td>\n",
       "      <td>12</td>\n",
       "      <td>0</td>\n",
       "      <td>31</td>\n",
       "      <td>monthly issuance</td>\n",
       "      <td>1</td>\n",
       "      <td>3325.699951</td>\n",
       "      <td>2806.600098</td>\n",
       "      <td>2.0</td>\n",
       "      <td>4.0</td>\n",
       "      <td>...</td>\n",
       "      <td>21520.656250</td>\n",
       "      <td>0.0</td>\n",
       "      <td>0.0</td>\n",
       "      <td>0.0</td>\n",
       "      <td>0.0</td>\n",
       "      <td>0.0</td>\n",
       "      <td>0.0</td>\n",
       "      <td>0.0</td>\n",
       "      <td>0.0</td>\n",
       "      <td>15555.3</td>\n",
       "    </tr>\n",
       "  </tbody>\n",
       "</table>\n",
       "<p>5 rows × 47 columns</p>\n",
       "</div>"
      ],
      "text/plain": [
       "   account_id  date_block_num  month  days         frequency  \\\n",
       "0        7769              12      0    31  monthly issuance   \n",
       "1        8934              12      0    31  monthly issuance   \n",
       "2        3133              12      0    31  monthly issuance   \n",
       "3        6034              12      0    31   weekly issuance   \n",
       "4          86              12      0    31  monthly issuance   \n",
       "\n",
       "   frequency_encoded  incoming_lag_1  withdrawal_lag_1  num_incoming_op_lag_1  \\\n",
       "0                  1     6364.600098      45414.601562                    2.0   \n",
       "1                  1    22800.599609      17214.599609                    3.0   \n",
       "2                  1    29616.500000      21132.599609                    2.0   \n",
       "3                  2    44261.500000      52725.800781                    2.0   \n",
       "4                  1     3325.699951       2806.600098                    2.0   \n",
       "\n",
       "   num_withdrawal_op_lag_1      ...        account_id_target_enc_lag_6  \\\n",
       "0                      5.0      ...                           0.000000   \n",
       "1                      3.0      ...                       22130.880859   \n",
       "2                      5.0      ...                       25843.658203   \n",
       "3                      4.0      ...                       24881.269531   \n",
       "4                      4.0      ...                       21520.656250   \n",
       "\n",
       "   incoming_lag_12  withdrawal_lag_12  num_incoming_op_lag_12  \\\n",
       "0              0.0                0.0                     0.0   \n",
       "1              0.0                0.0                     0.0   \n",
       "2              0.0                0.0                     0.0   \n",
       "3              0.0                0.0                     0.0   \n",
       "4              0.0                0.0                     0.0   \n",
       "\n",
       "   num_withdrawal_op_lag_12  num_total_ops_lag_12  balance_month_lag_12  \\\n",
       "0                       0.0                   0.0                   0.0   \n",
       "1                       0.0                   0.0                   0.0   \n",
       "2                       0.0                   0.0                   0.0   \n",
       "3                       0.0                   0.0                   0.0   \n",
       "4                       0.0                   0.0                   0.0   \n",
       "\n",
       "   difference_in_out_lag_12  account_id_target_enc_lag_12  balance_month  \n",
       "0                       0.0                           0.0        51357.8  \n",
       "1                       0.0                           0.0        -1994.1  \n",
       "2                       0.0                           0.0        37809.6  \n",
       "3                       0.0                           0.0        11395.1  \n",
       "4                       0.0                           0.0        15555.3  \n",
       "\n",
       "[5 rows x 47 columns]"
      ]
     },
     "execution_count": 93,
     "metadata": {},
     "output_type": "execute_result"
    }
   ],
   "source": [
    "all_data.head()"
   ]
  },
  {
   "cell_type": "code",
   "execution_count": 82,
   "metadata": {},
   "outputs": [],
   "source": [
    "xx = all_data[all_data['account_id'] == 7769]"
   ]
  },
  {
   "cell_type": "code",
   "execution_count": 192,
   "metadata": {},
   "outputs": [
    {
     "data": {
      "image/png": "[encoded data removed]",
      "text/plain": [
       "<Figure size 432x288 with 1 Axes>"
      ]
     },
     "metadata": {},
     "output_type": "display_data"
    }
   ],
   "source": [
    "plt.plot(xx['date_block_num'], xx['balance_month'])\n",
    "plt.show()"
   ]
  },
  {
   "cell_type": "markdown",
   "metadata": {},
   "source": [
    "## Modelando preditores"
   ]
  },
  {
   "cell_type": "markdown",
   "metadata": {},
   "source": [
    "**Conjunto de treino:** 57 primeiros meses (1994, 1995, 1996, 1997, 9 primeiros meses de 1998) <br>\n",
    "**Validação:** Mês 10 e 11 de 1998 <br>\n",
    "\n",
    "(Cada conta para ser considerada deve ter transações durante todo o período de 60 meses) <br>\n",
    "(Importante conjunto de validação ser similar ao conjunto de teste)"
   ]
  },
  {
   "cell_type": "code",
   "execution_count": 102,
   "metadata": {},
   "outputs": [],
   "source": [
    "data = all_data.groupby(\"account_id\").filter(lambda x: len(x) == 60).copy()"
   ]
  },
  {
   "cell_type": "code",
   "execution_count": 103,
   "metadata": {},
   "outputs": [
    {
     "data": {
      "text/plain": [
       "(65946, 46)"
      ]
     },
     "execution_count": 103,
     "metadata": {},
     "output_type": "execute_result"
    }
   ],
   "source": [
    "data[data['date_block_num'] < 70].shape"
   ]
  },
  {
   "cell_type": "code",
   "execution_count": 104,
   "metadata": {},
   "outputs": [
    {
     "data": {
      "text/plain": [
       "(1137, 46)"
      ]
     },
     "execution_count": 104,
     "metadata": {},
     "output_type": "execute_result"
    }
   ],
   "source": [
    "data[data['date_block_num'] == 70].shape"
   ]
  },
  {
   "cell_type": "code",
   "execution_count": 105,
   "metadata": {},
   "outputs": [
    {
     "data": {
      "text/plain": [
       "(1137, 46)"
      ]
     },
     "execution_count": 105,
     "metadata": {},
     "output_type": "execute_result"
    }
   ],
   "source": [
    "data[data['date_block_num'] == 71].shape"
   ]
  },
  {
   "cell_type": "code",
   "execution_count": 106,
   "metadata": {},
   "outputs": [],
   "source": [
    "X_train = data[data.date_block_num < 70].drop(['balance_month', 'date_block_num'], axis=1)\n",
    "Y_train = data[data.date_block_num < 70]['balance_month']\n",
    "\n",
    "X_valid = data[data.date_block_num >= 70].drop(['balance_month', 'date_block_num'], axis=1)\n",
    "Y_valid = data[data.date_block_num >= 70]['balance_month']\n",
    "\n",
    "#X_test = data[data.date_block_num == 71].drop(['balance_month', 'date_block_num'], axis=1)\n",
    "#Y_test = data[data.date_block_num == 71]['balance_month']"
   ]
  },
  {
   "cell_type": "markdown",
   "metadata": {},
   "source": [
    "### XGBoost\n",
    "\n",
    "\n",
    "A métrica de validação (Root Mean Square Error - RMSE) apresentou valores super altos, o que é um bom indicativo de underfitting, isso pode se dar devido à quantidade de dados utilizada no treinamento, que não seria suficiente, às features utilizadas, que não são tão representativas para o problema que tentamos resolver (ou não são suficientes) e ao modelo em si, embora o XGBoost seja muito bom, combiná-lo com outros modelos (staking) também é algo a ser feito."
   ]
  },
  {
   "cell_type": "code",
   "execution_count": 109,
   "metadata": {},
   "outputs": [
    {
     "name": "stdout",
     "output_type": "stream",
     "text": [
      "[0]\tvalidation_0-rmse:12806.44434\tvalidation_1-rmse:18069.40039\n",
      "Multiple eval metrics have been passed: 'validation_1-rmse' will be used for early stopping.\n",
      "\n",
      "Will train until validation_1-rmse hasn't improved in 10 rounds.\n",
      "[1]\tvalidation_0-rmse:9262.76465\tvalidation_1-rmse:13686.95801\n",
      "[2]\tvalidation_0-rmse:8413.00000\tvalidation_1-rmse:13161.80566\n",
      "[3]\tvalidation_0-rmse:7855.96045\tvalidation_1-rmse:13292.21973\n",
      "[4]\tvalidation_0-rmse:7363.63477\tvalidation_1-rmse:13384.84863\n",
      "[5]\tvalidation_0-rmse:6905.24072\tvalidation_1-rmse:13627.62305\n",
      "[6]\tvalidation_0-rmse:6488.33838\tvalidation_1-rmse:13709.52441\n",
      "[7]\tvalidation_0-rmse:6116.83203\tvalidation_1-rmse:13875.33106\n",
      "[8]\tvalidation_0-rmse:5755.59033\tvalidation_1-rmse:13998.83106\n",
      "[9]\tvalidation_0-rmse:5407.85254\tvalidation_1-rmse:14165.64160\n",
      "[10]\tvalidation_0-rmse:5099.66895\tvalidation_1-rmse:14237.48047\n",
      "[11]\tvalidation_0-rmse:4805.91406\tvalidation_1-rmse:14349.23828\n",
      "[12]\tvalidation_0-rmse:4519.39551\tvalidation_1-rmse:14401.42871\n",
      "Stopping. Best iteration:\n",
      "[2]\tvalidation_0-rmse:8413.00000\tvalidation_1-rmse:13161.80566\n",
      "\n"
     ]
    },
    {
     "data": {
      "text/plain": [
       "XGBRegressor(base_score=0.5, booster=None, colsample_bylevel=1,\n",
       "       colsample_bynode=1, colsample_bytree=0.8, eta=0.8, gamma=0,\n",
       "       gpu_id=-1, importance_type='gain', interaction_constraints=None,\n",
       "       learning_rate=0.800000012, max_delta_step=0, max_depth=200,\n",
       "       min_child_weight=25, missing=nan, monotone_constraints=None,\n",
       "       n_estimators=1000, n_jobs=0, num_parallel_tree=1,\n",
       "       objective='reg:squarederror', random_state=42, reg_alpha=0,\n",
       "       reg_lambda=1, scale_pos_weight=1, seed=42, subsample=0.8,\n",
       "       tree_method=None, validate_parameters=False, verbosity=None)"
      ]
     },
     "execution_count": 109,
     "metadata": {},
     "output_type": "execute_result"
    }
   ],
   "source": [
    "model = XGBRegressor(\n",
    "    max_depth=200,\n",
    "    n_estimators=1000,\n",
    "    min_child_weight=25, \n",
    "    colsample_bytree=0.8, \n",
    "    subsample=0.8, \n",
    "    eta=0.8,    \n",
    "    seed=42, \n",
    ")\n",
    "\n",
    "model.fit(\n",
    "    X_train, \n",
    "    Y_train, \n",
    "    eval_metric=\"rmse\", \n",
    "    eval_set=[(X_train, Y_train), (X_valid, Y_valid)], \n",
    "    verbose=True, \n",
    "    early_stopping_rounds = 10)"
   ]
  },
  {
   "cell_type": "code",
   "execution_count": 111,
   "metadata": {},
   "outputs": [],
   "source": [
    "Y_pred = model.predict(X_valid)"
   ]
  },
  {
   "cell_type": "code",
   "execution_count": 116,
   "metadata": {},
   "outputs": [
    {
     "data": {
      "text/html": [
       "<div>\n",
       "<style scoped>\n",
       "    .dataframe tbody tr th:only-of-type {\n",
       "        vertical-align: middle;\n",
       "    }\n",
       "\n",
       "    .dataframe tbody tr th {\n",
       "        vertical-align: top;\n",
       "    }\n",
       "\n",
       "    .dataframe thead th {\n",
       "        text-align: right;\n",
       "    }\n",
       "</style>\n",
       "<table border=\"1\" class=\"dataframe\">\n",
       "  <thead>\n",
       "    <tr style=\"text-align: right;\">\n",
       "      <th></th>\n",
       "      <th>account_id</th>\n",
       "      <th>month</th>\n",
       "      <th>days</th>\n",
       "      <th>frequency_encoded</th>\n",
       "      <th>incoming_lag_1</th>\n",
       "      <th>withdrawal_lag_1</th>\n",
       "      <th>num_incoming_op_lag_1</th>\n",
       "      <th>num_withdrawal_op_lag_1</th>\n",
       "      <th>num_total_ops_lag_1</th>\n",
       "      <th>balance_month_lag_1</th>\n",
       "      <th>...</th>\n",
       "      <th>difference_in_out_lag_6</th>\n",
       "      <th>account_id_target_enc_lag_6</th>\n",
       "      <th>incoming_lag_12</th>\n",
       "      <th>withdrawal_lag_12</th>\n",
       "      <th>num_incoming_op_lag_12</th>\n",
       "      <th>num_withdrawal_op_lag_12</th>\n",
       "      <th>num_total_ops_lag_12</th>\n",
       "      <th>balance_month_lag_12</th>\n",
       "      <th>difference_in_out_lag_12</th>\n",
       "      <th>account_id_target_enc_lag_12</th>\n",
       "    </tr>\n",
       "  </thead>\n",
       "  <tbody>\n",
       "    <tr>\n",
       "      <th>168792</th>\n",
       "      <td>2378</td>\n",
       "      <td>10</td>\n",
       "      <td>30</td>\n",
       "      <td>1</td>\n",
       "      <td>258.299988</td>\n",
       "      <td>36826.601562</td>\n",
       "      <td>1.0</td>\n",
       "      <td>4.0</td>\n",
       "      <td>5.0</td>\n",
       "      <td>55142.500000</td>\n",
       "      <td>...</td>\n",
       "      <td>12286.900391</td>\n",
       "      <td>49679.851562</td>\n",
       "      <td>5291.299805</td>\n",
       "      <td>9626.599609</td>\n",
       "      <td>2.0</td>\n",
       "      <td>2.0</td>\n",
       "      <td>4.0</td>\n",
       "      <td>22588.300781</td>\n",
       "      <td>-4335.299805</td>\n",
       "      <td>54571.992188</td>\n",
       "    </tr>\n",
       "    <tr>\n",
       "      <th>168794</th>\n",
       "      <td>3135</td>\n",
       "      <td>10</td>\n",
       "      <td>30</td>\n",
       "      <td>1</td>\n",
       "      <td>20393.099609</td>\n",
       "      <td>13028.599609</td>\n",
       "      <td>2.0</td>\n",
       "      <td>3.0</td>\n",
       "      <td>5.0</td>\n",
       "      <td>75283.101562</td>\n",
       "      <td>...</td>\n",
       "      <td>-2052.500000</td>\n",
       "      <td>38400.925781</td>\n",
       "      <td>20375.400391</td>\n",
       "      <td>6828.600098</td>\n",
       "      <td>3.0</td>\n",
       "      <td>2.0</td>\n",
       "      <td>5.0</td>\n",
       "      <td>47842.199219</td>\n",
       "      <td>13546.800781</td>\n",
       "      <td>41395.574219</td>\n",
       "    </tr>\n",
       "    <tr>\n",
       "      <th>168796</th>\n",
       "      <td>183</td>\n",
       "      <td>10</td>\n",
       "      <td>30</td>\n",
       "      <td>1</td>\n",
       "      <td>14763.400391</td>\n",
       "      <td>10368.599609</td>\n",
       "      <td>2.0</td>\n",
       "      <td>4.0</td>\n",
       "      <td>6.0</td>\n",
       "      <td>29089.400391</td>\n",
       "      <td>...</td>\n",
       "      <td>-1866.799805</td>\n",
       "      <td>30055.175781</td>\n",
       "      <td>14816.299805</td>\n",
       "      <td>17568.599609</td>\n",
       "      <td>2.0</td>\n",
       "      <td>4.0</td>\n",
       "      <td>6.0</td>\n",
       "      <td>36118.101562</td>\n",
       "      <td>-2752.299805</td>\n",
       "      <td>29244.109375</td>\n",
       "    </tr>\n",
       "    <tr>\n",
       "      <th>168805</th>\n",
       "      <td>6148</td>\n",
       "      <td>10</td>\n",
       "      <td>30</td>\n",
       "      <td>1</td>\n",
       "      <td>23451.599609</td>\n",
       "      <td>18461.599609</td>\n",
       "      <td>2.0</td>\n",
       "      <td>4.0</td>\n",
       "      <td>6.0</td>\n",
       "      <td>105511.796875</td>\n",
       "      <td>...</td>\n",
       "      <td>475.099609</td>\n",
       "      <td>58406.921875</td>\n",
       "      <td>23404.000000</td>\n",
       "      <td>20061.599609</td>\n",
       "      <td>2.0</td>\n",
       "      <td>4.0</td>\n",
       "      <td>6.0</td>\n",
       "      <td>94083.101562</td>\n",
       "      <td>3342.400391</td>\n",
       "      <td>59447.101562</td>\n",
       "    </tr>\n",
       "    <tr>\n",
       "      <th>168807</th>\n",
       "      <td>1539</td>\n",
       "      <td>10</td>\n",
       "      <td>30</td>\n",
       "      <td>0</td>\n",
       "      <td>0.000000</td>\n",
       "      <td>7030.100098</td>\n",
       "      <td>0.0</td>\n",
       "      <td>3.0</td>\n",
       "      <td>3.0</td>\n",
       "      <td>-11256.700195</td>\n",
       "      <td>...</td>\n",
       "      <td>-13919.796875</td>\n",
       "      <td>21827.660156</td>\n",
       "      <td>14700.000000</td>\n",
       "      <td>7223.600098</td>\n",
       "      <td>1.0</td>\n",
       "      <td>3.0</td>\n",
       "      <td>4.0</td>\n",
       "      <td>-6486.700195</td>\n",
       "      <td>7476.399902</td>\n",
       "      <td>20156.777344</td>\n",
       "    </tr>\n",
       "  </tbody>\n",
       "</table>\n",
       "<p>5 rows × 44 columns</p>\n",
       "</div>"
      ],
      "text/plain": [
       "        account_id  month  days  frequency_encoded  incoming_lag_1  \\\n",
       "168792        2378     10    30                  1      258.299988   \n",
       "168794        3135     10    30                  1    20393.099609   \n",
       "168796         183     10    30                  1    14763.400391   \n",
       "168805        6148     10    30                  1    23451.599609   \n",
       "168807        1539     10    30                  0        0.000000   \n",
       "\n",
       "        withdrawal_lag_1  num_incoming_op_lag_1  num_withdrawal_op_lag_1  \\\n",
       "168792      36826.601562                    1.0                      4.0   \n",
       "168794      13028.599609                    2.0                      3.0   \n",
       "168796      10368.599609                    2.0                      4.0   \n",
       "168805      18461.599609                    2.0                      4.0   \n",
       "168807       7030.100098                    0.0                      3.0   \n",
       "\n",
       "        num_total_ops_lag_1  balance_month_lag_1  \\\n",
       "168792                  5.0         55142.500000   \n",
       "168794                  5.0         75283.101562   \n",
       "168796                  6.0         29089.400391   \n",
       "168805                  6.0        105511.796875   \n",
       "168807                  3.0        -11256.700195   \n",
       "\n",
       "                    ...               difference_in_out_lag_6  \\\n",
       "168792              ...                          12286.900391   \n",
       "168794              ...                          -2052.500000   \n",
       "168796              ...                          -1866.799805   \n",
       "168805              ...                            475.099609   \n",
       "168807              ...                         -13919.796875   \n",
       "\n",
       "        account_id_target_enc_lag_6  incoming_lag_12  withdrawal_lag_12  \\\n",
       "168792                 49679.851562      5291.299805        9626.599609   \n",
       "168794                 38400.925781     20375.400391        6828.600098   \n",
       "168796                 30055.175781     14816.299805       17568.599609   \n",
       "168805                 58406.921875     23404.000000       20061.599609   \n",
       "168807                 21827.660156     14700.000000        7223.600098   \n",
       "\n",
       "        num_incoming_op_lag_12  num_withdrawal_op_lag_12  \\\n",
       "168792                     2.0                       2.0   \n",
       "168794                     3.0                       2.0   \n",
       "168796                     2.0                       4.0   \n",
       "168805                     2.0                       4.0   \n",
       "168807                     1.0                       3.0   \n",
       "\n",
       "        num_total_ops_lag_12  balance_month_lag_12  difference_in_out_lag_12  \\\n",
       "168792                   4.0          22588.300781              -4335.299805   \n",
       "168794                   5.0          47842.199219              13546.800781   \n",
       "168796                   6.0          36118.101562              -2752.299805   \n",
       "168805                   6.0          94083.101562               3342.400391   \n",
       "168807                   4.0          -6486.700195               7476.399902   \n",
       "\n",
       "        account_id_target_enc_lag_12  \n",
       "168792                  54571.992188  \n",
       "168794                  41395.574219  \n",
       "168796                  29244.109375  \n",
       "168805                  59447.101562  \n",
       "168807                  20156.777344  \n",
       "\n",
       "[5 rows x 44 columns]"
      ]
     },
     "execution_count": 116,
     "metadata": {},
     "output_type": "execute_result"
    }
   ],
   "source": [
    "X_valid.head()"
   ]
  },
  {
   "cell_type": "code",
   "execution_count": 123,
   "metadata": {},
   "outputs": [
    {
     "data": {
      "text/plain": [
       "(1137,)"
      ]
     },
     "execution_count": 123,
     "metadata": {},
     "output_type": "execute_result"
    }
   ],
   "source": [
    "Y_pred[1137:].shape"
   ]
  },
  {
   "cell_type": "code",
   "execution_count": 125,
   "metadata": {},
   "outputs": [
    {
     "data": {
      "text/plain": [
       "(2274, 44)"
      ]
     },
     "execution_count": 125,
     "metadata": {},
     "output_type": "execute_result"
    }
   ],
   "source": [
    "X_valid.shape"
   ]
  },
  {
   "cell_type": "markdown",
   "metadata": {},
   "source": [
    "### Predições dos meses 10 e 11 de 1998"
   ]
  },
  {
   "cell_type": "code",
   "execution_count": 126,
   "metadata": {},
   "outputs": [],
   "source": [
    "predictions = pd.DataFrame({\n",
    "    \"ID\": X_valid.account_id[0:1137], \n",
    "    \"balance_month_1\": Y_pred[0:1137], \n",
    "    \"balance_month_2\": Y_pred[1137:]\n",
    "})"
   ]
  },
  {
   "cell_type": "code",
   "execution_count": 131,
   "metadata": {},
   "outputs": [
    {
     "data": {
      "text/html": [
       "<div>\n",
       "<style scoped>\n",
       "    .dataframe tbody tr th:only-of-type {\n",
       "        vertical-align: middle;\n",
       "    }\n",
       "\n",
       "    .dataframe tbody tr th {\n",
       "        vertical-align: top;\n",
       "    }\n",
       "\n",
       "    .dataframe thead th {\n",
       "        text-align: right;\n",
       "    }\n",
       "</style>\n",
       "<table border=\"1\" class=\"dataframe\">\n",
       "  <thead>\n",
       "    <tr style=\"text-align: right;\">\n",
       "      <th></th>\n",
       "      <th>ID</th>\n",
       "      <th>balance_month_1</th>\n",
       "      <th>balance_month_2</th>\n",
       "    </tr>\n",
       "  </thead>\n",
       "  <tbody>\n",
       "    <tr>\n",
       "      <th>168792</th>\n",
       "      <td>2378</td>\n",
       "      <td>60996.281250</td>\n",
       "      <td>58525.996094</td>\n",
       "    </tr>\n",
       "    <tr>\n",
       "      <th>168794</th>\n",
       "      <td>3135</td>\n",
       "      <td>75134.125000</td>\n",
       "      <td>37361.371094</td>\n",
       "    </tr>\n",
       "    <tr>\n",
       "      <th>168796</th>\n",
       "      <td>183</td>\n",
       "      <td>31773.130859</td>\n",
       "      <td>86087.992188</td>\n",
       "    </tr>\n",
       "    <tr>\n",
       "      <th>168805</th>\n",
       "      <td>6148</td>\n",
       "      <td>97149.554688</td>\n",
       "      <td>90037.804688</td>\n",
       "    </tr>\n",
       "    <tr>\n",
       "      <th>168807</th>\n",
       "      <td>1539</td>\n",
       "      <td>-17994.167969</td>\n",
       "      <td>34388.109375</td>\n",
       "    </tr>\n",
       "  </tbody>\n",
       "</table>\n",
       "</div>"
      ],
      "text/plain": [
       "          ID  balance_month_1  balance_month_2\n",
       "168792  2378     60996.281250     58525.996094\n",
       "168794  3135     75134.125000     37361.371094\n",
       "168796   183     31773.130859     86087.992188\n",
       "168805  6148     97149.554688     90037.804688\n",
       "168807  1539    -17994.167969     34388.109375"
      ]
     },
     "execution_count": 131,
     "metadata": {},
     "output_type": "execute_result"
    }
   ],
   "source": [
    "predictions.head()"
   ]
  },
  {
   "cell_type": "markdown",
   "metadata": {},
   "source": [
    "## Resultados\n",
    "\n",
    "Os resultados explorados são relacionados à previsão do balanço nos meses seguintes, uma previsão do tipo sempre estará muito sujeita à falha, principalmente por nunca ser baseada em todas as variáveis possíveis associadas à vida dos clientes, fatores externos a o que está sendo indicado nos dados do aplicativo, no entanto, apresentar qual a tendência do balanço mensal da(o) cliente já é um bom caminho para que ela/ele fique mais consciente a cerca de como gasta/economiza e se previna previamente caso o cenário seja ruim.  "
   ]
  },
  {
   "cell_type": "code",
   "execution_count": 251,
   "metadata": {},
   "outputs": [
    {
     "data": {
      "text/html": [
       "<div>\n",
       "<style scoped>\n",
       "    .dataframe tbody tr th:only-of-type {\n",
       "        vertical-align: middle;\n",
       "    }\n",
       "\n",
       "    .dataframe tbody tr th {\n",
       "        vertical-align: top;\n",
       "    }\n",
       "\n",
       "    .dataframe thead th {\n",
       "        text-align: right;\n",
       "    }\n",
       "</style>\n",
       "<table border=\"1\" class=\"dataframe\">\n",
       "  <thead>\n",
       "    <tr style=\"text-align: right;\">\n",
       "      <th></th>\n",
       "      <th>account_id</th>\n",
       "      <th>date_block_num</th>\n",
       "      <th>month</th>\n",
       "      <th>days</th>\n",
       "      <th>frequency_encoded</th>\n",
       "      <th>incoming_lag_1</th>\n",
       "      <th>withdrawal_lag_1</th>\n",
       "      <th>num_incoming_op_lag_1</th>\n",
       "      <th>num_withdrawal_op_lag_1</th>\n",
       "      <th>num_total_ops_lag_1</th>\n",
       "      <th>...</th>\n",
       "      <th>account_id_target_enc_lag_6</th>\n",
       "      <th>incoming_lag_12</th>\n",
       "      <th>withdrawal_lag_12</th>\n",
       "      <th>num_incoming_op_lag_12</th>\n",
       "      <th>num_withdrawal_op_lag_12</th>\n",
       "      <th>num_total_ops_lag_12</th>\n",
       "      <th>balance_month_lag_12</th>\n",
       "      <th>difference_in_out_lag_12</th>\n",
       "      <th>account_id_target_enc_lag_12</th>\n",
       "      <th>balance_month</th>\n",
       "    </tr>\n",
       "  </thead>\n",
       "  <tbody>\n",
       "    <tr>\n",
       "      <th>0</th>\n",
       "      <td>7769</td>\n",
       "      <td>12</td>\n",
       "      <td>0</td>\n",
       "      <td>31</td>\n",
       "      <td>1</td>\n",
       "      <td>6364.600098</td>\n",
       "      <td>45414.601562</td>\n",
       "      <td>2.0</td>\n",
       "      <td>5.0</td>\n",
       "      <td>7.0</td>\n",
       "      <td>...</td>\n",
       "      <td>0.000000</td>\n",
       "      <td>0.0</td>\n",
       "      <td>0.0</td>\n",
       "      <td>0.0</td>\n",
       "      <td>0.0</td>\n",
       "      <td>0.0</td>\n",
       "      <td>0.0</td>\n",
       "      <td>0.0</td>\n",
       "      <td>0.0</td>\n",
       "      <td>51357.8</td>\n",
       "    </tr>\n",
       "    <tr>\n",
       "      <th>1</th>\n",
       "      <td>8934</td>\n",
       "      <td>12</td>\n",
       "      <td>0</td>\n",
       "      <td>31</td>\n",
       "      <td>1</td>\n",
       "      <td>22800.599609</td>\n",
       "      <td>17214.599609</td>\n",
       "      <td>3.0</td>\n",
       "      <td>3.0</td>\n",
       "      <td>6.0</td>\n",
       "      <td>...</td>\n",
       "      <td>22130.880859</td>\n",
       "      <td>0.0</td>\n",
       "      <td>0.0</td>\n",
       "      <td>0.0</td>\n",
       "      <td>0.0</td>\n",
       "      <td>0.0</td>\n",
       "      <td>0.0</td>\n",
       "      <td>0.0</td>\n",
       "      <td>0.0</td>\n",
       "      <td>-1994.1</td>\n",
       "    </tr>\n",
       "    <tr>\n",
       "      <th>2</th>\n",
       "      <td>3133</td>\n",
       "      <td>12</td>\n",
       "      <td>0</td>\n",
       "      <td>31</td>\n",
       "      <td>1</td>\n",
       "      <td>29616.500000</td>\n",
       "      <td>21132.599609</td>\n",
       "      <td>2.0</td>\n",
       "      <td>5.0</td>\n",
       "      <td>7.0</td>\n",
       "      <td>...</td>\n",
       "      <td>25843.658203</td>\n",
       "      <td>0.0</td>\n",
       "      <td>0.0</td>\n",
       "      <td>0.0</td>\n",
       "      <td>0.0</td>\n",
       "      <td>0.0</td>\n",
       "      <td>0.0</td>\n",
       "      <td>0.0</td>\n",
       "      <td>0.0</td>\n",
       "      <td>37809.6</td>\n",
       "    </tr>\n",
       "    <tr>\n",
       "      <th>3</th>\n",
       "      <td>6034</td>\n",
       "      <td>12</td>\n",
       "      <td>0</td>\n",
       "      <td>31</td>\n",
       "      <td>2</td>\n",
       "      <td>44261.500000</td>\n",
       "      <td>52725.800781</td>\n",
       "      <td>2.0</td>\n",
       "      <td>4.0</td>\n",
       "      <td>6.0</td>\n",
       "      <td>...</td>\n",
       "      <td>24881.269531</td>\n",
       "      <td>0.0</td>\n",
       "      <td>0.0</td>\n",
       "      <td>0.0</td>\n",
       "      <td>0.0</td>\n",
       "      <td>0.0</td>\n",
       "      <td>0.0</td>\n",
       "      <td>0.0</td>\n",
       "      <td>0.0</td>\n",
       "      <td>11395.1</td>\n",
       "    </tr>\n",
       "    <tr>\n",
       "      <th>4</th>\n",
       "      <td>86</td>\n",
       "      <td>12</td>\n",
       "      <td>0</td>\n",
       "      <td>31</td>\n",
       "      <td>1</td>\n",
       "      <td>3325.699951</td>\n",
       "      <td>2806.600098</td>\n",
       "      <td>2.0</td>\n",
       "      <td>4.0</td>\n",
       "      <td>6.0</td>\n",
       "      <td>...</td>\n",
       "      <td>21520.656250</td>\n",
       "      <td>0.0</td>\n",
       "      <td>0.0</td>\n",
       "      <td>0.0</td>\n",
       "      <td>0.0</td>\n",
       "      <td>0.0</td>\n",
       "      <td>0.0</td>\n",
       "      <td>0.0</td>\n",
       "      <td>0.0</td>\n",
       "      <td>15555.3</td>\n",
       "    </tr>\n",
       "    <tr>\n",
       "      <th>5</th>\n",
       "      <td>96</td>\n",
       "      <td>12</td>\n",
       "      <td>0</td>\n",
       "      <td>31</td>\n",
       "      <td>1</td>\n",
       "      <td>66552.101562</td>\n",
       "      <td>69052.601562</td>\n",
       "      <td>2.0</td>\n",
       "      <td>8.0</td>\n",
       "      <td>10.0</td>\n",
       "      <td>...</td>\n",
       "      <td>74988.078125</td>\n",
       "      <td>0.0</td>\n",
       "      <td>0.0</td>\n",
       "      <td>0.0</td>\n",
       "      <td>0.0</td>\n",
       "      <td>0.0</td>\n",
       "      <td>0.0</td>\n",
       "      <td>0.0</td>\n",
       "      <td>0.0</td>\n",
       "      <td>22503.5</td>\n",
       "    </tr>\n",
       "    <tr>\n",
       "      <th>6</th>\n",
       "      <td>104</td>\n",
       "      <td>12</td>\n",
       "      <td>0</td>\n",
       "      <td>31</td>\n",
       "      <td>1</td>\n",
       "      <td>3132.500000</td>\n",
       "      <td>2236.600098</td>\n",
       "      <td>2.0</td>\n",
       "      <td>4.0</td>\n",
       "      <td>6.0</td>\n",
       "      <td>...</td>\n",
       "      <td>22022.589844</td>\n",
       "      <td>0.0</td>\n",
       "      <td>0.0</td>\n",
       "      <td>0.0</td>\n",
       "      <td>0.0</td>\n",
       "      <td>0.0</td>\n",
       "      <td>0.0</td>\n",
       "      <td>0.0</td>\n",
       "      <td>0.0</td>\n",
       "      <td>14321.5</td>\n",
       "    </tr>\n",
       "    <tr>\n",
       "      <th>7</th>\n",
       "      <td>128</td>\n",
       "      <td>12</td>\n",
       "      <td>0</td>\n",
       "      <td>31</td>\n",
       "      <td>1</td>\n",
       "      <td>2503.000000</td>\n",
       "      <td>3014.600098</td>\n",
       "      <td>3.0</td>\n",
       "      <td>3.0</td>\n",
       "      <td>6.0</td>\n",
       "      <td>...</td>\n",
       "      <td>53335.718750</td>\n",
       "      <td>0.0</td>\n",
       "      <td>0.0</td>\n",
       "      <td>0.0</td>\n",
       "      <td>0.0</td>\n",
       "      <td>0.0</td>\n",
       "      <td>0.0</td>\n",
       "      <td>0.0</td>\n",
       "      <td>0.0</td>\n",
       "      <td>22274.9</td>\n",
       "    </tr>\n",
       "    <tr>\n",
       "      <th>8</th>\n",
       "      <td>3050</td>\n",
       "      <td>12</td>\n",
       "      <td>0</td>\n",
       "      <td>31</td>\n",
       "      <td>1</td>\n",
       "      <td>62460.800781</td>\n",
       "      <td>58201.601562</td>\n",
       "      <td>2.0</td>\n",
       "      <td>8.0</td>\n",
       "      <td>10.0</td>\n",
       "      <td>...</td>\n",
       "      <td>40628.046875</td>\n",
       "      <td>0.0</td>\n",
       "      <td>0.0</td>\n",
       "      <td>0.0</td>\n",
       "      <td>0.0</td>\n",
       "      <td>0.0</td>\n",
       "      <td>0.0</td>\n",
       "      <td>0.0</td>\n",
       "      <td>0.0</td>\n",
       "      <td>16738.8</td>\n",
       "    </tr>\n",
       "    <tr>\n",
       "      <th>9</th>\n",
       "      <td>3064</td>\n",
       "      <td>12</td>\n",
       "      <td>0</td>\n",
       "      <td>31</td>\n",
       "      <td>1</td>\n",
       "      <td>14011.299805</td>\n",
       "      <td>15943.599609</td>\n",
       "      <td>2.0</td>\n",
       "      <td>7.0</td>\n",
       "      <td>9.0</td>\n",
       "      <td>...</td>\n",
       "      <td>41189.101562</td>\n",
       "      <td>0.0</td>\n",
       "      <td>0.0</td>\n",
       "      <td>0.0</td>\n",
       "      <td>0.0</td>\n",
       "      <td>0.0</td>\n",
       "      <td>0.0</td>\n",
       "      <td>0.0</td>\n",
       "      <td>0.0</td>\n",
       "      <td>12606.9</td>\n",
       "    </tr>\n",
       "  </tbody>\n",
       "</table>\n",
       "<p>10 rows × 46 columns</p>\n",
       "</div>"
      ],
      "text/plain": [
       "   account_id  date_block_num  month  days  frequency_encoded  incoming_lag_1  \\\n",
       "0        7769              12      0    31                  1     6364.600098   \n",
       "1        8934              12      0    31                  1    22800.599609   \n",
       "2        3133              12      0    31                  1    29616.500000   \n",
       "3        6034              12      0    31                  2    44261.500000   \n",
       "4          86              12      0    31                  1     3325.699951   \n",
       "5          96              12      0    31                  1    66552.101562   \n",
       "6         104              12      0    31                  1     3132.500000   \n",
       "7         128              12      0    31                  1     2503.000000   \n",
       "8        3050              12      0    31                  1    62460.800781   \n",
       "9        3064              12      0    31                  1    14011.299805   \n",
       "\n",
       "   withdrawal_lag_1  num_incoming_op_lag_1  num_withdrawal_op_lag_1  \\\n",
       "0      45414.601562                    2.0                      5.0   \n",
       "1      17214.599609                    3.0                      3.0   \n",
       "2      21132.599609                    2.0                      5.0   \n",
       "3      52725.800781                    2.0                      4.0   \n",
       "4       2806.600098                    2.0                      4.0   \n",
       "5      69052.601562                    2.0                      8.0   \n",
       "6       2236.600098                    2.0                      4.0   \n",
       "7       3014.600098                    3.0                      3.0   \n",
       "8      58201.601562                    2.0                      8.0   \n",
       "9      15943.599609                    2.0                      7.0   \n",
       "\n",
       "   num_total_ops_lag_1      ...        account_id_target_enc_lag_6  \\\n",
       "0                  7.0      ...                           0.000000   \n",
       "1                  6.0      ...                       22130.880859   \n",
       "2                  7.0      ...                       25843.658203   \n",
       "3                  6.0      ...                       24881.269531   \n",
       "4                  6.0      ...                       21520.656250   \n",
       "5                 10.0      ...                       74988.078125   \n",
       "6                  6.0      ...                       22022.589844   \n",
       "7                  6.0      ...                       53335.718750   \n",
       "8                 10.0      ...                       40628.046875   \n",
       "9                  9.0      ...                       41189.101562   \n",
       "\n",
       "   incoming_lag_12  withdrawal_lag_12  num_incoming_op_lag_12  \\\n",
       "0              0.0                0.0                     0.0   \n",
       "1              0.0                0.0                     0.0   \n",
       "2              0.0                0.0                     0.0   \n",
       "3              0.0                0.0                     0.0   \n",
       "4              0.0                0.0                     0.0   \n",
       "5              0.0                0.0                     0.0   \n",
       "6              0.0                0.0                     0.0   \n",
       "7              0.0                0.0                     0.0   \n",
       "8              0.0                0.0                     0.0   \n",
       "9              0.0                0.0                     0.0   \n",
       "\n",
       "   num_withdrawal_op_lag_12  num_total_ops_lag_12  balance_month_lag_12  \\\n",
       "0                       0.0                   0.0                   0.0   \n",
       "1                       0.0                   0.0                   0.0   \n",
       "2                       0.0                   0.0                   0.0   \n",
       "3                       0.0                   0.0                   0.0   \n",
       "4                       0.0                   0.0                   0.0   \n",
       "5                       0.0                   0.0                   0.0   \n",
       "6                       0.0                   0.0                   0.0   \n",
       "7                       0.0                   0.0                   0.0   \n",
       "8                       0.0                   0.0                   0.0   \n",
       "9                       0.0                   0.0                   0.0   \n",
       "\n",
       "   difference_in_out_lag_12  account_id_target_enc_lag_12  balance_month  \n",
       "0                       0.0                           0.0        51357.8  \n",
       "1                       0.0                           0.0        -1994.1  \n",
       "2                       0.0                           0.0        37809.6  \n",
       "3                       0.0                           0.0        11395.1  \n",
       "4                       0.0                           0.0        15555.3  \n",
       "5                       0.0                           0.0        22503.5  \n",
       "6                       0.0                           0.0        14321.5  \n",
       "7                       0.0                           0.0        22274.9  \n",
       "8                       0.0                           0.0        16738.8  \n",
       "9                       0.0                           0.0        12606.9  \n",
       "\n",
       "[10 rows x 46 columns]"
      ]
     },
     "execution_count": 251,
     "metadata": {},
     "output_type": "execute_result"
    }
   ],
   "source": [
    "data.head(10)"
   ]
  },
  {
   "cell_type": "code",
   "execution_count": 262,
   "metadata": {},
   "outputs": [],
   "source": [
    "def plot_preds(account_num, data, predictions):\n",
    "    aa = data[(data['date_block_num'] > 58) & (data['date_block_num'] < 70)].copy()\n",
    "    account_a = aa[aa['account_id'] == account_num].copy()\n",
    "    \n",
    "    dict_month = {0: 'Jan', 1 : 'Fev', 2 : 'Març', \n",
    "              3 : 'Abr', 4: 'Maio', 5: 'Jun', \n",
    "              6 : 'Julh', 7 : 'Agos', 8 : 'Set', \n",
    "              9 : 'Out', 10 : 'Nov', 11 : 'Dez'}\n",
    "\n",
    "    account_a['month'] = account_a['month'].map(dict_month)\n",
    "    \n",
    "    m_1 = list(predictions[predictions['ID'] == account_num]['balance_month_1'])[0]\n",
    "    m_2 = list(predictions[predictions['ID'] == account_num]['balance_month_2'])[0]\n",
    "    \n",
    "    list_balance = list(account_a['balance_month'])\n",
    "    list_balance.append(m_1)\n",
    "    list_balance.append(m_2)\n",
    "\n",
    "    list_block = list(account_a['date_block_num'])\n",
    "    list_block.append(70)\n",
    "    list_block.append(71)\n",
    "\n",
    "    list_month = list(account_a['month'])\n",
    "    list_month.append('Nov')\n",
    "    list_month.append('Dez')\n",
    "\n",
    "    plt.title(\"Predição de Balanço mensal da conta \" + str(account_num))\n",
    "    plt.plot(list_block, list_balance)\n",
    "    plt.plot(list_block[:-2], list_balance[:-2], 'y')\n",
    "    plt.xticks(list_block, list_month)\n",
    "    plt.show()"
   ]
  },
  {
   "cell_type": "code",
   "execution_count": null,
   "metadata": {},
   "outputs": [],
   "source": [
    "plot_preds(3050, data, predictions)"
   ]
  }
 ],
 "metadata": {
  "kernelspec": {
   "display_name": "Python 3",
   "language": "python",
   "name": "python3"
  },
  "language_info": {
   "codemirror_mode": {
    "name": "ipython",
    "version": 3
   },
   "file_extension": ".py",
   "mimetype": "text/x-python",
   "name": "python",
   "nbconvert_exporter": "python",
   "pygments_lexer": "ipython3",
   "version": "3.6.5"
  }
 },
 "nbformat": 4,
 "nbformat_minor": 2
}
